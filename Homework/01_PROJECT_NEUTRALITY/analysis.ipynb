{
 "cells": [
  {
   "cell_type": "markdown",
   "id": "579b567a-2b80-4bf1-8cc1-c514da76ca50",
   "metadata": {},
   "source": [
    "# (ADA) Homework 1: Scoring the Language Model Olympics\n",
    "\n",
    "---\n",
    "\n",
    "By the end of this homework, we expect you to be able to:\n",
    "\n",
    "- Load data and handle data using pandas;\n",
    "- Navigate the documentation of Python packages by yourself;\n",
    "- Filter and tidy up noisy real-world datasets;\n",
    "- Aggregate your data in different (and hopefully helpful) ways;\n",
    "- Create meaningful visualizations to analyze the data;\n",
    "- Communicate your findings in a clear and concise manner\n",
    "\n",
    "---\n",
    "\n",
    "**Some rules**\n",
    "\n",
    "- You are allowed to use any built-in Python library that comes with Anaconda. If you want to use an external library, you may do so, but must justify your choice.\n",
    "- Make sure you use the data folder provided in the repository in read-only mode. (Or alternatively, be sure you don’t change any of the files.)\n",
    "- For questions containing the /Discuss:/ prefix, answer not with code, but with a textual explanation (in markdown).\n",
    "- Back up any hypotheses and claims with data, since this is an important aspect of the course.\n",
    "- Please write all your comments in English, and use meaningful variable names in your code.\n",
    "---"
   ]
  },
  {
   "cell_type": "markdown",
   "id": "4f85896e-c0ae-4ae3-af41-46149faa2278",
   "metadata": {},
   "source": [
    "## Context\n",
    "\n",
    "Context\n",
    "AI is booming! Newspapers, influencers, and your relatives all agree that AI is important. But while almost everyone agrees that AI is the future, much is unclear about what that future looks like…\n",
    "\n",
    "Freshly graduated from the EPFL, you are hired by the Swiss government to advise on a large-scale “AI integration” initiative code-named **\"NEUTRALITY\"** (Navigating Efficient Upgrades Through Robust Artificial Learning Integration Techniques Yearly). Convinced by the stunning progress in language modeling, the government would like to battle the growing shortages in the education sector by using LMs. Your job description: investigate which LMs might be best suited!\n",
    "\n",
    "You are given the results of three LMs on the [“Massive Multitask Language Understanding (MMLU)”](https://arxiv.org/abs/2009.03300) dataset to compare. This famous dataset consists of 57 subjects with multiple-choice questions, covering diverse subjects like mathematics, computer science, history, and law. Most providers of state-of-the-art LMs use this dataset to showcase the versatility of their latest models. Unfortunately, Horta-Ribeiro, the intern responsible for collecting the results, didn’t take EPFL’s famous ADA course. As a result, the collected datasets are slightly corrupted.\n",
    "\n",
    "### A very brief primer on Language Models\n",
    "Language models (LMs) are sophisticated statistical models designed to understand and generate human-like text. At their core, LMs are trained to predict the most likely continuation of a given input text. For example, given the input \"The cat sat on the,\" an LM might predict \"mat\" as a likely continuation.\n",
    "LMs are trained on vast text samples from various sources, including books, websites, and social media. This extensive training allows them to capture patterns and relationships in language, enabling them to generate coherent and contextually appropriate text across a wide range of topics and styles.\n",
    "\n",
    "While LMs can produce text that appears to be written by intelligent humans, it's important to note that their capabilities can diverge from human intelligence in unexpected ways. They may sometimes generate factually incorrect information or struggle with complex reasoning tasks.\n",
    "\n",
    "Two key concepts in understanding LMs are:\n",
    "1. **Tokens**: LMs process text using \"tokens\" rather than individual characters. Tokens can be words, parts of words, or punctuation marks. For example, the sentence \"I love AI!\" might be tokenized as [\"I\", \"love\", \"AI\", \"!\"]. Tokenization is the first step in both training and using an LM.\n",
    "2. **Context**: The input text provided to an LM is called the \"context.\" This context informs the model's predictions or generations. A longer or more specific context often leads to more accurate and relevant outputs.\n",
    "\n",
    "[See: Wikipedia entry on language models](https://en.wikipedia.org/wiki/Large_language_model)\n",
    "\n",
    "###  Files for this assignment\n",
    "This assignment is divided into three tasks, each of which should bring you a step closer to providing a recommendation toward project NEUTRALITY’s objectives:\n",
    "\n",
    "- **Task 1**: Inspecting the results and getting your first model ranking\n",
    "- **Task 2**: Inspecting the underlying data used to generate the results for possible biases\n",
    "- **Task 3**: Learning about tokens and providing a final recommendation\n",
    "\n",
    "\n",
    "```\n",
    "📁 PROJECT_NEUTRALITY\n",
    "│\n",
    "├── 📄 analysis.ipynb (the file you're currently reading!)\n",
    "├── 📄 requirements.txt (install into your environment)\n",
    "│\n",
    "├── 📁 task_1\n",
    "├── 📁 task_2\n",
    "└── 📁 task_2.5\n",
    "```   \n",
    " "
   ]
  },
  {
   "cell_type": "code",
   "id": "95ce4c12-9681-401e-9489-aa0765b19d5d",
   "metadata": {
    "ExecuteTime": {
     "end_time": "2025-10-09T12:05:31.168693Z",
     "start_time": "2025-10-09T12:05:31.164123Z"
    }
   },
   "source": [
    "# please make sure you install the packages listed in the requirements.txt file in your environment!\n",
    "# using pip\n",
    "# pip install -r requirements.txt\n",
    "#\n",
    "# using Conda:\n",
    "# conda create --name <env_name> --file requirements.txt\n",
    "#\n",
    "# some basic imports\n",
    "import os\n",
    "import pandas as pd\n",
    "import numpy as np\n",
    "import matplotlib.pyplot as plt\n",
    "import warnings\n",
    "\n",
    "from bokeh.util.logconfig import level\n",
    "from scipy.stats import ttest_ind\n",
    "from statsmodels.nonparametric.kdetools import counts"
   ],
   "outputs": [],
   "execution_count": 40
  },
  {
   "cell_type": "markdown",
   "id": "e62594ad-4f5f-4a46-80bc-deacf66b62e9",
   "metadata": {},
   "source": [
    "## Task 1 (18 points): What's in an average anyway?\n",
    "\n",
    "The files needed to complete task 1 can be found in the folder \"`data/task_1/`:\n",
    "```\n",
    "task_1/\n",
    "│\n",
    "├── mmlu_data/\n",
    "│   └── test.csv\n",
    "│\n",
    "└── lm_scores/\n",
    "    ├── lm_X.csv\n",
    "    ├── lm_Y.csv\n",
    "    └── lm_Z.csv\n",
    "```\n",
    "\n",
    "We will start by loading, (manually) inspecting, and cleaning the data. Although it doesn't seem \"glamorous\" (nor is it particularly fun...) - manually inspecting data is extremely important! In fact, it's one of the few things most AI and Data Science researchers agree on :). Next, we will take a first pass on ordering our Olympic podium between three LMs."
   ]
  },
  {
   "cell_type": "markdown",
   "id": "f8605646-79fa-4cb3-8137-b6951bd1e064",
   "metadata": {},
   "source": [
    "### 1.1 (1 pt)\n",
    " \n",
    "Load the subfiles contained in the `mmlu_data` and `lm_scores` folders into separate dataframes:\n",
    "- `df_test`\n",
    "- `df_x`\n",
    "- `df_y`\n",
    "- `df_z`\n",
    "\n",
    "for each, print their sizes."
   ]
  },
  {
   "cell_type": "code",
   "id": "e6ce5e96-7de6-463d-a00b-6a4b2cfc8cb3",
   "metadata": {
    "ExecuteTime": {
     "end_time": "2025-10-09T12:05:32.889813Z",
     "start_time": "2025-10-09T12:05:32.774961Z"
    }
   },
   "source": [
    "df_test=pd.read_csv(\"task_1/mmlu_data/test.csv\")\n",
    "df_x=pd.read_csv(\"task_1/lm_scores/lm_X.csv\")\n",
    "df_y=pd.read_csv(\"task_1/lm_scores/lm_Y.csv\")\n",
    "df_z=pd.read_csv(\"task_1/lm_scores/lm_Z.csv\")\n",
    "\n",
    "print(f\"test :{df_test.shape} \")\n",
    "print(f\"x    :{df_x.shape} \")\n",
    "print(f\"y    :{df_y.shape} \")\n",
    "print(f\"z    :{df_z.shape} \")"
   ],
   "outputs": [
    {
     "name": "stdout",
     "output_type": "stream",
     "text": [
      "test :(14042, 8) \n",
      "x    :(13882, 2) \n",
      "y    :(13978, 2) \n",
      "z    :(13923, 2) \n"
     ]
    }
   ],
   "execution_count": 41
  },
  {
   "cell_type": "markdown",
   "id": "acbda57d-7df2-4e33-b31c-52bc0af6753e",
   "metadata": {},
   "source": [
    "### 1.2 (4 pt)\n",
    "Unfortunately, LMs don't always output the format we want. In the column `result`, the value should be one of A, B, C, or D. \n",
    "\n",
    "A. For each of the LM score dataframes, use a `value_counts()` operation and print the results. \n",
    "\n",
    "B. /Discuss:/ Inspect the results and describe the types of answer formats you see. Besides the \"expected\" case, you should be able to find at least four unexpected formats."
   ]
  },
  {
   "cell_type": "code",
   "id": "79936f23",
   "metadata": {
    "ExecuteTime": {
     "end_time": "2025-10-09T12:05:33.920463Z",
     "start_time": "2025-10-09T12:05:33.911226Z"
    }
   },
   "source": [
    "df_x.value_counts(\"result\")"
   ],
   "outputs": [
    {
     "data": {
      "text/plain": [
       "result\n",
       "A                                                                 2733\n",
       "A                                                                 1657\n",
       "B                                                                 1412\n",
       "Answer: A                                                         1398\n",
       "C                                                                 1134\n",
       "                                                                  ... \n",
       "Fifty-one percent, so the answer is B                                1\n",
       "False, False, so the answer is B                                     1\n",
       "David Hume, so the answer is D                                       1\n",
       "Cytokine secretion by natural killer cells, so the answer is A       1\n",
       "white, so the answer is C                                            1\n",
       "Name: count, Length: 145, dtype: int64"
      ]
     },
     "execution_count": 42,
     "metadata": {},
     "output_type": "execute_result"
    }
   ],
   "execution_count": 42
  },
  {
   "cell_type": "code",
   "id": "4d377d96f378c0aa",
   "metadata": {
    "ExecuteTime": {
     "end_time": "2025-10-09T12:05:34.737270Z",
     "start_time": "2025-10-09T12:05:34.729565Z"
    }
   },
   "source": [
    "df_y.value_counts(\"result\")\n"
   ],
   "outputs": [
    {
     "data": {
      "text/plain": [
       "result\n",
       "D                                                                                                                        2894\n",
       "Answer: D                                                                                                                1718\n",
       "C                                                                                                                        1701\n",
       "B                                                                                                                        1240\n",
       "D                                                                                                                        1145\n",
       "                                                                                                                         ... \n",
       "Group A would become more firmly entrenched, while Group B members would moderate their positions, so the answer is C       1\n",
       "FindName ([\"Andrea\", \"Ben\", \"Chris\"], \"Ben\"), so the answer is C                                                            1\n",
       "Explicit memory, so the answer is D                                                                                         1\n",
       "Evaluation involves assessing all aspects of the programme., so the answer is D                                             1\n",
       "women held considerable power and responsibility within the domestic sphere of social life, so the answer is C              1\n",
       "Name: count, Length: 141, dtype: int64"
      ]
     },
     "execution_count": 43,
     "metadata": {},
     "output_type": "execute_result"
    }
   ],
   "execution_count": 43
  },
  {
   "cell_type": "code",
   "id": "78434df951b3b5eb",
   "metadata": {
    "ExecuteTime": {
     "end_time": "2025-10-09T12:05:35.306736Z",
     "start_time": "2025-10-09T12:05:35.296927Z"
    }
   },
   "source": [
    "df_z.value_counts(\"result\")"
   ],
   "outputs": [
    {
     "data": {
      "text/plain": [
       "result\n",
       "D                                        2257\n",
       "C                                        2191\n",
       "B                                        2127\n",
       "A                                        2060\n",
       "Answer: D                                 777\n",
       "                                         ... \n",
       "I and II only, so the answer is D           1\n",
       "Humans, so the answer is D                  1\n",
       "Humanism, so the answer is A                1\n",
       "Higher in the sky, so the answer is C       1\n",
       "−36, so the answer is D                     1\n",
       "Name: count, Length: 560, dtype: int64"
      ]
     },
     "execution_count": 44,
     "metadata": {},
     "output_type": "execute_result"
    }
   ],
   "execution_count": 44
  },
  {
   "cell_type": "markdown",
   "id": "64fef9ff837c17d6",
   "metadata": {},
   "source": [
    " B) we can observe that in the result column we do not only have A, B, C or D ut we also have some different sentences that includes the answer and the letter chosen,giving some explanaition about the result for example.we also have some cases with sentences to say that none of the given letter is chosen."
   ]
  },
  {
   "cell_type": "markdown",
   "id": "88c5551d-1968-427b-bdd6-51d996898e7c",
   "metadata": {},
   "source": [
    "### 1.3 (5 pt)\n",
    "Oh oh... That doesn't look great. Simply dropping all invalid answers seems overly wasteful, yet fixing all of these looks like a mess! Instead, let's focus for now on fixing just those answers of length < 10 characters that require only a single `str.replace()` operation. \n",
    "\n",
    "For example, if the answer looks like `--A--`, we could fix this by using the following simple function:\n",
    "\n",
    "```\n",
    "def clean_answer(s, pattern='-'):\n",
    "    return str(s).replace(pattern, '')\n",
    "\n",
    "dirty_answer = '--A--'\n",
    "clean_answer = clean_answer(dirty_answer)\n",
    "```\n",
    "\n",
    "A. Filter the three score dataframes to include only answers with less than 10 characters. Make a deep copy of the dataframes as you filter them.\n",
    "\n",
    "B. Modify the `clean_answer()` example function to clean the answers in the filtered data frames using the `apply()` functionality. Finally, make sure **all remaining answers are one of `A, B, C, or D`.**\n",
    "\n",
    "C. /Discuss:/ Compare the sizes of the original and filtered data frames. What do you see? Why might this be a problem?"
   ]
  },
  {
   "cell_type": "code",
   "id": "aef1f933-20bf-426a-ac9d-a35e273b9bd2",
   "metadata": {
    "ExecuteTime": {
     "end_time": "2025-10-09T12:05:36.853952Z",
     "start_time": "2025-10-09T12:05:36.831106Z"
    }
   },
   "source": [
    "df_x_copy = df_x[df_x[\"result\"].apply(lambda x : len(x) < 10 if type(x) == str else False)].copy(deep=True)\n",
    "df_y_copy = df_y[df_y[\"result\"].apply(lambda x : len(x) < 10 if type(x) == str else False)].copy(deep=True)\n",
    "df_z_copy = df_z[df_z[\"result\"].apply(lambda x : len(x) < 10 if type(x) == str else False)].copy(deep=True)\n",
    "#chek the new dataframe\n",
    "df_x_copy[\"result\"].value_counts()"
   ],
   "outputs": [
    {
     "data": {
      "text/plain": [
       "result\n",
       "A            2733\n",
       "A            1657\n",
       "B            1412\n",
       "Answer: A    1398\n",
       "C            1134\n",
       "D            1124\n",
       "B             793\n",
       "Answer: B     760\n",
       "C             622\n",
       "Answer: D     613\n",
       "D             596\n",
       "Answer: C     594\n",
       "Not Sure       73\n",
       "Name: count, dtype: int64"
      ]
     },
     "execution_count": 45,
     "metadata": {},
     "output_type": "execute_result"
    }
   ],
   "execution_count": 45
  },
  {
   "cell_type": "code",
   "id": "fd54f296",
   "metadata": {
    "ExecuteTime": {
     "end_time": "2025-10-09T12:05:37.397814Z",
     "start_time": "2025-10-09T12:05:37.393922Z"
    }
   },
   "source": [
    "def clean_answer(s, pattern=[' ']):\n",
    "    for i in pattern:\n",
    "        s = str(s).replace(i, \"\")\n",
    "    return s"
   ],
   "outputs": [],
   "execution_count": 46
  },
  {
   "cell_type": "code",
   "id": "5a4584c065ae0cff",
   "metadata": {
    "ExecuteTime": {
     "end_time": "2025-10-09T12:05:37.943725Z",
     "start_time": "2025-10-09T12:05:37.920611Z"
    }
   },
   "source": [
    "#cleaning the values in the result column\n",
    "df_x_copy[\"result\"]=df_x_copy[\"result\"].apply(lambda x : clean_answer(x,pattern=[' ', 'Answer:', 'NotSure']))\n",
    "#droping the empty rows\n",
    "df_x_copy=df_x_copy[df_x_copy[\"result\"].apply(lambda x : x != '')]\n",
    "#cheking that we only have A B C D\n",
    "df_x_copy[\"result\"].value_counts()"
   ],
   "outputs": [
    {
     "data": {
      "text/plain": [
       "result\n",
       "A    5788\n",
       "B    2965\n",
       "C    2350\n",
       "D    2333\n",
       "Name: count, dtype: int64"
      ]
     },
     "execution_count": 47,
     "metadata": {},
     "output_type": "execute_result"
    }
   ],
   "execution_count": 47
  },
  {
   "cell_type": "code",
   "id": "1e4fa99f8b942869",
   "metadata": {
    "ExecuteTime": {
     "end_time": "2025-10-09T12:05:38.545385Z",
     "start_time": "2025-10-09T12:05:38.522529Z"
    }
   },
   "source": [
    "#cleaning the values in the result column\n",
    "df_y_copy[\"result\"]=df_y_copy[\"result\"].apply(lambda x : clean_answer(x,pattern=[' ', 'Answer:', 'NotSure']))\n",
    "#droping the empty rows\n",
    "df_y_copy=df_y_copy[df_y_copy[\"result\"].apply(lambda x : x != '')]\n",
    "#cheking that we only have A B C D\n",
    "df_y_copy[\"result\"].value_counts()"
   ],
   "outputs": [
    {
     "data": {
      "text/plain": [
       "result\n",
       "D    5757\n",
       "C    3242\n",
       "B    2519\n",
       "A    2033\n",
       "Name: count, dtype: int64"
      ]
     },
     "execution_count": 48,
     "metadata": {},
     "output_type": "execute_result"
    }
   ],
   "execution_count": 48
  },
  {
   "cell_type": "code",
   "id": "6b5f5b8c8380881d",
   "metadata": {
    "ExecuteTime": {
     "end_time": "2025-10-09T12:05:39.123254Z",
     "start_time": "2025-10-09T12:05:39.086995Z"
    }
   },
   "source": [
    "#cleaning the values in the result column\n",
    "df_z_copy[\"result\"]=df_z_copy[\"result\"].apply(lambda x : clean_answer(x,pattern=[' ', 'Answer:', 'NotSure']))\n",
    "#droping the empty rows\n",
    "df_z_copy=df_z_copy[df_z_copy[\"result\"].apply(lambda x : x != '')]\n",
    "#cheking that we only have A B C D\n",
    "df_z_copy[\"result\"].value_counts()"
   ],
   "outputs": [
    {
     "data": {
      "text/plain": [
       "result\n",
       "D    3348\n",
       "C    3255\n",
       "B    3124\n",
       "A    3026\n",
       "Name: count, dtype: int64"
      ]
     },
     "execution_count": 49,
     "metadata": {},
     "output_type": "execute_result"
    }
   ],
   "execution_count": 49
  },
  {
   "cell_type": "code",
   "id": "3b7329b64b5b5b9a",
   "metadata": {
    "ExecuteTime": {
     "end_time": "2025-10-09T12:05:39.697666Z",
     "start_time": "2025-10-09T12:05:39.692600Z"
    }
   },
   "source": [
    "print(f\"x    :{df_x.shape}, x_copy    :{df_x_copy.shape} \")\n",
    "print(f\"y    :{df_y.shape}, y_copy    :{df_y_copy.shape} \")\n",
    "print(f\"z    :{df_z.shape}, z_copy    :{df_z_copy.shape} \")"
   ],
   "outputs": [
    {
     "name": "stdout",
     "output_type": "stream",
     "text": [
      "x    :(13882, 2), x_copy    :(13436, 2) \n",
      "y    :(13978, 2), y_copy    :(13551, 2) \n",
      "z    :(13923, 2), z_copy    :(12753, 2) \n"
     ]
    }
   ],
   "execution_count": 50
  },
  {
   "cell_type": "markdown",
   "id": "2415cd9b",
   "metadata": {},
   "source": [
    "C. I dont see any problem\n"
   ]
  },
  {
   "cell_type": "markdown",
   "id": "da1cf129-09dd-47b1-9737-2c4d57eb8853",
   "metadata": {},
   "source": [
    "### 1.4 (3 pt)\n",
    "\n",
    "Now that our answer columns are nicely formatted, let's take a look at model performance:\n",
    "\n",
    "A. Both the `MMLU` dataframes and the language model score data frames have the columns `question_id`. For each of the language model score data frames, use an inner join operation with the `df_test` dataframe on the `question_id` column.\n",
    "\n",
    "B. Add a new column to each of the resulting dataframes called `correct`, that checks if the model's answer in `result` is the same as the expected answer in the column `answer`. Then, print the average score of each model."
   ]
  },
  {
   "cell_type": "code",
   "id": "e66b36f3-f5a4-4237-9b48-39b21716d7aa",
   "metadata": {
    "ExecuteTime": {
     "end_time": "2025-10-09T12:05:41.471947Z",
     "start_time": "2025-10-09T12:05:41.449735Z"
    }
   },
   "source": [
    "# A\n",
    "df_x_id=pd.merge(df_x_copy,df_test,how='inner',on='question_id')\n",
    "df_y_id=pd.merge(df_y_copy,df_test,how='inner',on='question_id')\n",
    "df_z_id=pd.merge(df_z_copy,df_test,how='inner',on='question_id')"
   ],
   "outputs": [],
   "execution_count": 51
  },
  {
   "cell_type": "code",
   "id": "50b024d2",
   "metadata": {
    "ExecuteTime": {
     "end_time": "2025-10-09T12:05:41.949723Z",
     "start_time": "2025-10-09T12:05:41.938471Z"
    }
   },
   "source": [
    "# B\n",
    "df_x_id['correct']=df_x_id['result']==df_x_id['answer']\n",
    "df_y_id['correct']=df_y_id['result']==df_y_id['answer']\n",
    "df_z_id['correct']=df_z_id['result']==df_z_id['answer']\n",
    "x_avg_score=df_x_id['correct'].mean()\n",
    "y_avg_score=df_y_id['correct'].mean()\n",
    "z_avg_score=df_z_id['correct'].mean()\n",
    "print(f\"Accuracy with X :  {x_avg_score*100:.2f}%\")\n",
    "print(f\"Accuracy with Y :  {y_avg_score*100:.2f}%\")\n",
    "print(f\"Accuracy with Z :  {z_avg_score*100:.2f}%\")\n"
   ],
   "outputs": [
    {
     "name": "stdout",
     "output_type": "stream",
     "text": [
      "Accuracy with X :  76.75%\n",
      "Accuracy with Y :  74.58%\n",
      "Accuracy with Z :  66.33%\n"
     ]
    }
   ],
   "execution_count": 52
  },
  {
   "cell_type": "markdown",
   "id": "69decfd8-8083-4c2f-8263-a153d55efede",
   "metadata": {},
   "source": [
    "### 1.5 (5 pt)\n",
    "\n",
    "Hmmm, something doesn't seem quite right. Let's investigate how \"balanced\" this dataset is:\n",
    "\n",
    "A. For each of the 57 subjects in the MMLU, compare the number of questions answered by each model. Print the subjects for which there is a more than 10% difference.\n",
    "\n",
    "B. Propose and implement a reasonable way to rebalance the results. (e.g., while throwing away 100% of the results perfectly rebalances the results, it is not reasonable).\n",
    "\n",
    "C. Finally, print the updated accuracy on the rebalanced data.\n",
    "\n",
    "**hint:**:\n",
    "- (A) For a given subject, let model X and model Y have answered 181 and 200 questions respectively. You can consider this a 10% difference from the perspective of X since: (200 - 181) / 181 > 0.10"
   ]
  },
  {
   "cell_type": "code",
   "id": "19463002-732b-405b-8b44-77f702bdb665",
   "metadata": {
    "ExecuteTime": {
     "end_time": "2025-10-09T12:05:42.977058Z",
     "start_time": "2025-10-09T12:05:42.959748Z"
    }
   },
   "source": [
    "# A\n",
    "subject=pd.DataFrame()\n",
    "subject['X']=df_x_id.groupby(['subject'])['answer'].count()\n",
    "subject['Y']=df_y_id.groupby(['subject'])['answer'].count()\n",
    "subject['Z']=df_z_id.groupby(['subject'])['answer'].count()\n",
    "subject['difference']=(np.abs(subject['X']-subject['Y'])/100>0.1) | (np.absolute(subject['X']-subject['Z'])/100>0.1) | (np.absolute(subject['Y']-subject['Z'])/100>0.1)\n",
    "subject[subject['difference']==True].index.values"
   ],
   "outputs": [
    {
     "data": {
      "text/plain": [
       "array(['astronomy', 'clinical knowledge', 'college chemistry',\n",
       "       'college computer science', 'computer security',\n",
       "       'conceptual physics', 'elementary mathematics', 'formal logic',\n",
       "       'high school biology', 'high school chemistry',\n",
       "       'high school european history', 'high school geography',\n",
       "       'high school government and politics',\n",
       "       'high school macroeconomics', 'high school mathematics',\n",
       "       'high school microeconomics', 'high school physics',\n",
       "       'high school psychology', 'high school world history',\n",
       "       'human aging', 'logical fallacies', 'marketing', 'miscellaneous',\n",
       "       'moral disputes', 'moral scenarios', 'nutrition', 'philosophy',\n",
       "       'prehistory', 'professional accounting', 'professional law',\n",
       "       'professional psychology', 'virology', 'world religions'],\n",
       "      dtype=object)"
      ]
     },
     "execution_count": 53,
     "metadata": {},
     "output_type": "execute_result"
    }
   ],
   "execution_count": 53
  },
  {
   "cell_type": "code",
   "id": "2fb8c324",
   "metadata": {
    "ExecuteTime": {
     "end_time": "2025-10-09T12:05:43.537495Z",
     "start_time": "2025-10-09T12:05:43.519084Z"
    }
   },
   "source": [
    "# We should only use the question id that are in all the models\n",
    "df_x_eq=df_x_id[df_x_id['question_id'].isin(df_y_id['question_id']) & df_x_id['question_id'].isin(df_z_id['question_id'])]\n",
    "df_y_eq=df_y_id[df_y_id['question_id'].isin(df_x_id['question_id']) & df_y_id['question_id'].isin(df_z_id['question_id'])]\n",
    "df_z_eq=df_z_id[df_z_id['question_id'].isin(df_y_id['question_id']) & df_z_id['question_id'].isin(df_x_id['question_id'])]\n",
    "#computing new score\n",
    "x_avg_score_eq=df_x_eq['correct'].mean()\n",
    "y_avg_score_eq=df_y_eq['correct'].mean()\n",
    "z_avg_score_eq=df_z_eq['correct'].mean()\n",
    "print(f\"Accuracy with X :  {x_avg_score_eq*100:.2f}%\")\n",
    "print(f\"Accuracy with Y :  {y_avg_score_eq*100:.2f}%\")\n",
    "print(f\"Accuracy with Z :  {z_avg_score_eq*100:.2f}%\")"
   ],
   "outputs": [
    {
     "name": "stdout",
     "output_type": "stream",
     "text": [
      "Accuracy with X :  76.66%\n",
      "Accuracy with Y :  74.71%\n",
      "Accuracy with Z :  66.21%\n"
     ]
    }
   ],
   "execution_count": 54
  },
  {
   "cell_type": "code",
   "id": "8a5dd169",
   "metadata": {
    "ExecuteTime": {
     "end_time": "2025-10-09T12:05:44.135192Z",
     "start_time": "2025-10-09T12:05:44.118771Z"
    }
   },
   "source": [
    "#checkign that we indeed dont have any more > to 10% diff\n",
    "subject=pd.DataFrame()\n",
    "subject['X']=df_x_eq.groupby(['subject'])['answer'].count()\n",
    "subject['Y']=df_y_eq.groupby(['subject'])['answer'].count()\n",
    "subject['Z']=df_z_eq.groupby(['subject'])['answer'].count()\n",
    "subject['difference']=(np.abs(subject['X']-subject['Y'])/100>0.1) | (np.absolute(subject['X']-subject['Z'])/100>0.1) | (np.absolute(subject['Y']-subject['Z'])/100>0.1)\n",
    "subject[subject['difference']==True].index.values"
   ],
   "outputs": [
    {
     "data": {
      "text/plain": [
       "array([], dtype=object)"
      ]
     },
     "execution_count": 55,
     "metadata": {},
     "output_type": "execute_result"
    }
   ],
   "execution_count": 55
  },
  {
   "cell_type": "code",
   "id": "affc3746",
   "metadata": {
    "ExecuteTime": {
     "end_time": "2025-10-09T12:05:44.832213Z",
     "start_time": "2025-10-09T12:05:44.829457Z"
    }
   },
   "source": [
    "# C"
   ],
   "outputs": [],
   "execution_count": 56
  },
  {
   "cell_type": "markdown",
   "id": "292b2f61-0529-4b6d-a3a7-af786a4d79ae",
   "metadata": {},
   "source": [
    "## Task 2 (26 points): What do you mean A > D > B > C...?\n",
    "\n",
    "Nice work! Having successfully inspected, cleaned, and rebalanced the provided data, you head over to director of the government's NEUTRALITY project. Ms. Sakota is happy with your work so far, but worried that the sloppy intern might have done more undetected damage. To be sure, she orders a new set of evaluations of all models on both MMLU and another dataset.\n",
    "\n",
    "After cleaning up and rebalancing, you are left with the concatenated score files in the second folder `task_2`:\n",
    "```\n",
    "task_2/\n",
    "│\n",
    "└── lm_scores_mmlu.csv\n",
    "│\n",
    "└── lm_scores_other.csv\n",
    "```\n",
    "\n",
    "Each has a new column called `model_name`, which is one of `X, Y` or `Z`.\n",
    "\n",
    "\n",
    "\n",
    "_NOTE: **only** use data from `task_2` and `task_2_5` for this assignment! The values in `lm_scores_mmlu.csv` will NOT be the same as the dataframes you finished in task 1. This is due to \"randomness\" or \"temperature\" in language model inference. This can slightly shift around generative results. (Conveniently: it also ensures any mistakes made in Task 1 don't propogate further ;) )_"
   ]
  },
  {
   "cell_type": "code",
   "id": "a889a76b-e034-4d2f-929e-0ef1f250a0a0",
   "metadata": {
    "ExecuteTime": {
     "end_time": "2025-10-09T12:05:46.506354Z",
     "start_time": "2025-10-09T12:05:46.274160Z"
    }
   },
   "source": [
    "# PROVIDED CODE\n",
    "df_mmlu = pd.read_csv('task_2/lm_scores_mmlu.csv')\n",
    "df_other = pd.read_csv('task_2/lm_scores_other.csv')"
   ],
   "outputs": [],
   "execution_count": 57
  },
  {
   "cell_type": "markdown",
   "id": "c31edde3-cc91-4d08-81c7-b5e98cf0ff9c",
   "metadata": {},
   "source": [
    "### 2.1 (4 pt)\n",
    "\n",
    "Let's explore the new results:\n",
    "\n",
    "A. Compute the mean accuracy and standard errors of each model on both datasets and print the results.\n",
    "\n",
    "B. Then, show your results in a bar plot using standard errors with a 95% confidence interval around the mean. Make sure the plot is easy to read and well annotated.\n",
    "\n",
    "C. /Discuss:/ the plot you created: (i) can you say that one of the models is the best? (ii) is there anything that seems odd?"
   ]
  },
  {
   "cell_type": "code",
   "id": "56fe8cca-acd1-4f5e-a938-e8d3a850f220",
   "metadata": {
    "ExecuteTime": {
     "end_time": "2025-10-09T12:31:13.817487Z",
     "start_time": "2025-10-09T12:31:13.789973Z"
    }
   },
   "source": [
    "# A\n",
    "mean={}\n",
    "se={}\n",
    "model=['X','Y','Z']\n",
    "for m in model :\n",
    "    df=df_mmlu[df_mmlu['model_name']==m]['correct']\n",
    "    mean['MMLU_'+m ] = df.mean()\n",
    "    mean['OTHER_'+m ] = df.mean()\n",
    "    se['MMLU_'+m ] = df.std()/np.sqrt(df.count())\n",
    "    se['OTHER_'+m ] = df.std()/np.sqrt(df.count())\n",
    "\n",
    "print(f\" Means : {mean}\")\n",
    "print(f\" Standard Errors : {se}\")"
   ],
   "outputs": [
    {
     "name": "stdout",
     "output_type": "stream",
     "text": [
      " Means : {'MMLU_X': np.float64(0.7435875512995896), 'OTHER_X': np.float64(0.7435875512995896), 'MMLU_Y': np.float64(0.7615424076607387), 'OTHER_Y': np.float64(0.7615424076607387), 'MMLU_Z': np.float64(0.6559507523939808), 'OTHER_Z': np.float64(0.6559507523939808)}\n",
      " Standard Errors : {'MMLU_X': np.float64(0.004037713456574966), 'OTHER_X': np.float64(0.004037713456574966), 'MMLU_Y': np.float64(0.003940510695325722), 'OTHER_Y': np.float64(0.003940510695325722), 'MMLU_Z': np.float64(0.004392844300172015), 'OTHER_Z': np.float64(0.004392844300172015)}\n"
     ]
    }
   ],
   "execution_count": 73
  },
  {
   "cell_type": "code",
   "id": "d3a176c6",
   "metadata": {
    "ExecuteTime": {
     "end_time": "2025-10-09T13:14:27.758200Z",
     "start_time": "2025-10-09T13:14:27.611112Z"
    }
   },
   "source": [
    "# B\n",
    "plt.bar(mean.keys(), mean.values(), yerr=se.values())\n",
    "plt.title('Accuracy of the response in function of the model')\n",
    "plt.ylabel('Accuracy')\n",
    "plt.xlabel('Model')"
   ],
   "outputs": [
    {
     "data": {
      "text/plain": [
       "Text(0.5, 0, 'Model')"
      ]
     },
     "execution_count": 89,
     "metadata": {},
     "output_type": "execute_result"
    },
    {
     "data": {
      "text/plain": [
       "<Figure size 640x480 with 1 Axes>"
      ],
      "image/png": "[encoded data removed]"
     },
     "metadata": {},
     "output_type": "display_data",
     "jetTransient": {
      "display_id": null
     }
    }
   ],
   "execution_count": 89
  },
  {
   "cell_type": "markdown",
   "id": "65c9fbfe",
   "metadata": {},
   "source": "C. /Discuss:/ it seems that Y is the best model"
  },
  {
   "cell_type": "markdown",
   "id": "eee0ec62-f2d1-4bae-a6f6-221320d602cb",
   "metadata": {},
   "source": [
    "### 2.2 (5 pt)\n",
    "\n",
    "Ms. Sakota has assured you that both datasets contain questions of similar difficulty, so, what could be going on here?\n",
    "\n",
    "A. What is the distribution of correct answers (A, B, C, D) for each dataset? Create a bar chart to visualize this.\n",
    "\n",
    "B. Perform a chi-square test at $\\alpha = 0.05$, of independence to determine if there's a significant difference in the distribution of correct answers between the two datasets. What do you conclude?\n",
    "\n",
    "**hints**:\n",
    "- for (A), keep in mind that df_mmlu and df_other contain the results of all models, i.e., the `question_id` column is duplicated.\n",
    "- for (A), take care to clearly annotate the bar chart, e.g., title, y-label, legend.\n",
    "- for (B), clearly state the null hypothesis and alternative hypothesis\n",
    "- use the `chi2_contingency` function from `scipy.stats`\n",
    "- format your results from answer (A) as a 2D array"
   ]
  },
  {
   "cell_type": "code",
   "id": "30b16f70-93e0-4a19-8a6d-b3ae5a75ae65",
   "metadata": {
    "ExecuteTime": {
     "end_time": "2025-10-09T13:29:43.801163Z",
     "start_time": "2025-10-09T13:29:43.790595Z"
    }
   },
   "source": [
    "# A\n",
    "df_mmlu_correct=df_mmlu.groupby(['answer'])['correct'].count()\n",
    "df_other_correct=df_other.groupby(['answer'])['correct'].count()\n",
    "df_mmlu_correct"
   ],
   "outputs": [
    {
     "data": {
      "text/plain": [
       "answer\n",
       "A     4833\n",
       "B     8829\n",
       "C    10209\n",
       "D    11217\n",
       "Name: correct, dtype: int64"
      ]
     },
     "execution_count": 127,
     "metadata": {},
     "output_type": "execute_result"
    }
   ],
   "execution_count": 127
  },
  {
   "metadata": {
    "ExecuteTime": {
     "end_time": "2025-10-09T13:38:50.458398Z",
     "start_time": "2025-10-09T13:38:50.449407Z"
    }
   },
   "cell_type": "code",
   "source": [
    "df_mmlu_bar=df_mmlu_correct.copy()\n",
    "df_mmlu_bar.index = df_mmlu_correct.index + \"_MMLU\"\n",
    "df_other_bar=df_other_correct.copy()\n",
    "df_other_bar.index = df_other_correct.index + \"_OTHER\"\n",
    "df_ans=pd.concat([df_mmlu_correct,df_other_correct],keys=['MMLU','OTHER'])\n",
    "df_ans.head(10)\n",
    "#plt.bar(x=df_ans.index,height=df_ans['correct'].values)"
   ],
   "id": "51a9c7cc2c5126ea",
   "outputs": [
    {
     "data": {
      "text/plain": [
       "       answer\n",
       "MMLU   A          4833\n",
       "       B          8829\n",
       "       C         10209\n",
       "       D         11217\n",
       "OTHER  A          3234\n",
       "       B          3348\n",
       "       C          2772\n",
       "       D          1923\n",
       "Name: correct, dtype: int64"
      ]
     },
     "execution_count": 143,
     "metadata": {},
     "output_type": "execute_result"
    }
   ],
   "execution_count": 143
  },
  {
   "cell_type": "code",
   "id": "92392cd7",
   "metadata": {
    "ExecuteTime": {
     "end_time": "2025-10-09T13:12:21.322286Z",
     "start_time": "2025-10-09T13:12:21.317531Z"
    }
   },
   "source": [
    "# B\n",
    "help(plt.bar)"
   ],
   "outputs": [
    {
     "name": "stdout",
     "output_type": "stream",
     "text": [
      "Help on function bar in module matplotlib.pyplot:\n",
      "\n",
      "bar(\n",
      "    x: 'float | ArrayLike',\n",
      "    height: 'float | ArrayLike',\n",
      "    width: 'float | ArrayLike' = 0.8,\n",
      "    bottom: 'float | ArrayLike | None' = None,\n",
      "    *,\n",
      "    align: \"Literal['center', 'edge']\" = 'center',\n",
      "    data=None,\n",
      "    **kwargs\n",
      ") -> 'BarContainer'\n",
      "    Make a bar plot.\n",
      "\n",
      "    The bars are positioned at *x* with the given *align*\\ment. Their\n",
      "    dimensions are given by *height* and *width*. The vertical baseline\n",
      "    is *bottom* (default 0).\n",
      "\n",
      "    Many parameters can take either a single value applying to all bars\n",
      "    or a sequence of values, one for each bar.\n",
      "\n",
      "    Parameters\n",
      "    ----------\n",
      "    x : float or array-like\n",
      "        The x coordinates of the bars. See also *align* for the\n",
      "        alignment of the bars to the coordinates.\n",
      "\n",
      "        Bars are often used for categorical data, i.e. string labels below\n",
      "        the bars. You can provide a list of strings directly to *x*.\n",
      "        ``bar(['A', 'B', 'C'], [1, 2, 3])`` is often a shorter and more\n",
      "        convenient notation compared to\n",
      "        ``bar(range(3), [1, 2, 3], tick_label=['A', 'B', 'C'])``. They are\n",
      "        equivalent as long as the names are unique. The explicit *tick_label*\n",
      "        notation draws the names in the sequence given. However, when having\n",
      "        duplicate values in categorical *x* data, these values map to the same\n",
      "        numerical x coordinate, and hence the corresponding bars are drawn on\n",
      "        top of each other.\n",
      "\n",
      "    height : float or array-like\n",
      "        The height(s) of the bars.\n",
      "\n",
      "        Note that if *bottom* has units (e.g. datetime), *height* should be in\n",
      "        units that are a difference from the value of *bottom* (e.g. timedelta).\n",
      "\n",
      "    width : float or array-like, default: 0.8\n",
      "        The width(s) of the bars.\n",
      "\n",
      "        Note that if *x* has units (e.g. datetime), then *width* should be in\n",
      "        units that are a difference (e.g. timedelta) around the *x* values.\n",
      "\n",
      "    bottom : float or array-like, default: 0\n",
      "        The y coordinate(s) of the bottom side(s) of the bars.\n",
      "\n",
      "        Note that if *bottom* has units, then the y-axis will get a Locator and\n",
      "        Formatter appropriate for the units (e.g. dates, or categorical).\n",
      "\n",
      "    align : {'center', 'edge'}, default: 'center'\n",
      "        Alignment of the bars to the *x* coordinates:\n",
      "\n",
      "        - 'center': Center the base on the *x* positions.\n",
      "        - 'edge': Align the left edges of the bars with the *x* positions.\n",
      "\n",
      "        To align the bars on the right edge pass a negative *width* and\n",
      "        ``align='edge'``.\n",
      "\n",
      "    Returns\n",
      "    -------\n",
      "    `.BarContainer`\n",
      "        Container with all the bars and optionally errorbars.\n",
      "\n",
      "    Other Parameters\n",
      "    ----------------\n",
      "    color : :mpltype:`color` or list of :mpltype:`color`, optional\n",
      "        The colors of the bar faces. This is an alias for *facecolor*.\n",
      "        If both are given, *facecolor* takes precedence.\n",
      "\n",
      "    facecolor : :mpltype:`color` or list of :mpltype:`color`, optional\n",
      "        The colors of the bar faces.\n",
      "        If both *color* and *facecolor are given, *facecolor* takes precedence.\n",
      "\n",
      "    edgecolor : :mpltype:`color` or list of :mpltype:`color`, optional\n",
      "        The colors of the bar edges.\n",
      "\n",
      "    linewidth : float or array-like, optional\n",
      "        Width of the bar edge(s). If 0, don't draw edges.\n",
      "\n",
      "    tick_label : str or list of str, optional\n",
      "        The tick labels of the bars.\n",
      "        Default: None (Use default numeric labels.)\n",
      "\n",
      "    label : str or list of str, optional\n",
      "        A single label is attached to the resulting `.BarContainer` as a\n",
      "        label for the whole dataset.\n",
      "        If a list is provided, it must be the same length as *x* and\n",
      "        labels the individual bars. Repeated labels are not de-duplicated\n",
      "        and will cause repeated label entries, so this is best used when\n",
      "        bars also differ in style (e.g., by passing a list to *color*.)\n",
      "\n",
      "    xerr, yerr : float or array-like of shape(N,) or shape(2, N), optional\n",
      "        If not *None*, add horizontal / vertical errorbars to the bar tips.\n",
      "        The values are +/- sizes relative to the data:\n",
      "\n",
      "        - scalar: symmetric +/- values for all bars\n",
      "        - shape(N,): symmetric +/- values for each bar\n",
      "        - shape(2, N): Separate - and + values for each bar. First row\n",
      "          contains the lower errors, the second row contains the upper\n",
      "          errors.\n",
      "        - *None*: No errorbar. (Default)\n",
      "\n",
      "        See :doc:`/gallery/statistics/errorbar_features` for an example on\n",
      "        the usage of *xerr* and *yerr*.\n",
      "\n",
      "    ecolor : :mpltype:`color` or list of :mpltype:`color`, default: 'black'\n",
      "        The line color of the errorbars.\n",
      "\n",
      "    capsize : float, default: :rc:`errorbar.capsize`\n",
      "       The length of the error bar caps in points.\n",
      "\n",
      "    error_kw : dict, optional\n",
      "        Dictionary of keyword arguments to be passed to the\n",
      "        `~.Axes.errorbar` method. Values of *ecolor* or *capsize* defined\n",
      "        here take precedence over the independent keyword arguments.\n",
      "\n",
      "    log : bool, default: False\n",
      "        If *True*, set the y-axis to be log scale.\n",
      "\n",
      "    data : indexable object, optional\n",
      "        If given, all parameters also accept a string ``s``, which is\n",
      "        interpreted as ``data[s]`` if ``s`` is a key in ``data``.\n",
      "\n",
      "    **kwargs : `.Rectangle` properties\n",
      "\n",
      "    Properties:\n",
      "        agg_filter: a filter function, which takes a (m, n, 3) float array and a dpi value, and returns a (m, n, 3) array and two offsets from the bottom left corner of the image\n",
      "        alpha: float or None\n",
      "        angle: unknown\n",
      "        animated: bool\n",
      "        antialiased or aa: bool or None\n",
      "        bounds: (left, bottom, width, height)\n",
      "        capstyle: `.CapStyle` or {'butt', 'projecting', 'round'}\n",
      "        clip_box: `~matplotlib.transforms.BboxBase` or None\n",
      "        clip_on: bool\n",
      "        clip_path: Patch or (Path, Transform) or None\n",
      "        color: :mpltype:`color`\n",
      "        edgecolor or ec: :mpltype:`color` or None\n",
      "        facecolor or fc: :mpltype:`color` or None\n",
      "        figure: `~matplotlib.figure.Figure` or `~matplotlib.figure.SubFigure`\n",
      "        fill: bool\n",
      "        gid: str\n",
      "        hatch: {'/', '\\\\', '|', '-', '+', 'x', 'o', 'O', '.', '*'}\n",
      "        hatch_linewidth: unknown\n",
      "        height: unknown\n",
      "        in_layout: bool\n",
      "        joinstyle: `.JoinStyle` or {'miter', 'round', 'bevel'}\n",
      "        label: object\n",
      "        linestyle or ls: {'-', '--', '-.', ':', '', (offset, on-off-seq), ...}\n",
      "        linewidth or lw: float or None\n",
      "        mouseover: bool\n",
      "        path_effects: list of `.AbstractPathEffect`\n",
      "        picker: None or bool or float or callable\n",
      "        rasterized: bool\n",
      "        sketch_params: (scale: float, length: float, randomness: float)\n",
      "        snap: bool or None\n",
      "        transform: `~matplotlib.transforms.Transform`\n",
      "        url: str\n",
      "        visible: bool\n",
      "        width: unknown\n",
      "        x: unknown\n",
      "        xy: (float, float)\n",
      "        y: unknown\n",
      "        zorder: float\n",
      "\n",
      "    See Also\n",
      "    --------\n",
      "    barh : Plot a horizontal bar plot.\n",
      "\n",
      "    Notes\n",
      "    -----\n",
      "\n",
      "    .. note::\n",
      "\n",
      "        This is the :ref:`pyplot wrapper <pyplot_interface>` for `.axes.Axes.bar`.\n",
      "\n",
      "    Stacked bars can be achieved by passing individual *bottom* values per\n",
      "    bar. See :doc:`/gallery/lines_bars_and_markers/bar_stacked`.\n",
      "\n"
     ]
    }
   ],
   "execution_count": 85
  },
  {
   "cell_type": "markdown",
   "id": "2d3125ad-5a7e-44e7-999a-a0ff99855d39",
   "metadata": {},
   "source": [
    "### 2.3 (7 pt)\n",
    "\n",
    "Let's dive in deeper:\n",
    "\n",
    "A. What is language model X's mean accuracy conditioned on the four answer options for each dataset?\n",
    "\n",
    "B. Compare LM X's performance when the correct answer is \"A\" between the two datasets. Use a T-test with CI = 0.95. What do you conclude?\n",
    "\n",
    "C. Compare LM X's performance when the correct answer is \"A\" vs. \"C or D\" for each dataset. Use a T-test with CI = 0.95. What do you conclude?"
   ]
  },
  {
   "cell_type": "code",
   "execution_count": null,
   "id": "39097a11-8efe-46d1-8bc3-5587bb58d199",
   "metadata": {},
   "outputs": [],
   "source": [
    "# A"
   ]
  },
  {
   "cell_type": "code",
   "execution_count": null,
   "id": "9ae67c09",
   "metadata": {},
   "outputs": [],
   "source": [
    "# B"
   ]
  },
  {
   "cell_type": "code",
   "execution_count": null,
   "id": "636af6a6",
   "metadata": {},
   "outputs": [],
   "source": [
    "# C"
   ]
  },
  {
   "cell_type": "markdown",
   "id": "33848ff9-2604-4e48-b5df-3207dc81e9a9",
   "metadata": {},
   "source": [
    "### 2.4 (2 pt)\n",
    "\n",
    "What an intriguing finding! \n",
    "\n",
    "A. Print the mean accuracies conditioned on the correct answer for all LMs for each dataset.\n",
    "\n",
    "B. /Discuss:/ What do you observe?"
   ]
  },
  {
   "cell_type": "code",
   "execution_count": null,
   "id": "ec53ce2c-866e-440a-ac79-7813cb756782",
   "metadata": {},
   "outputs": [],
   "source": [
    "# A"
   ]
  },
  {
   "cell_type": "markdown",
   "id": "4ce58e47",
   "metadata": {},
   "source": [
    "B. /Discuss:/"
   ]
  },
  {
   "cell_type": "markdown",
   "id": "ccdd9d3c-5a03-4b30-84f7-a7dfbee1373e",
   "metadata": {},
   "source": [
    "### 2.5 (2 pt)\n",
    "\n",
    "Concerned with your findings so far, you quickly consult with Ms. Sakota. After thinking it over, Ms. Sakota concludes that more tests are needed. She orders a second round of MMLU results. However, the clever Ms. Sakota thinks of the following twist: while keeping questions fixed, she randomly permutes the position of the correct answer. The new results can be found in the folder `data/task_2_5/`:\n",
    "```\n",
    "task_2_5/\n",
    "│\n",
    "└── lm_scores_mmlu_shuffle.csv\n",
    "```\n",
    "\n",
    "/Discuss:/ Why would Ms. Sakota do this?"
   ]
  },
  {
   "cell_type": "markdown",
   "id": "64cc586a",
   "metadata": {},
   "source": [
    "/Discuss:/"
   ]
  },
  {
   "cell_type": "markdown",
   "id": "b9150ae0-dbaa-4c88-bf80-ec03127c6945",
   "metadata": {},
   "source": [
    "### 2.6 (4 pt)\n",
    "\n",
    "Increasingly sceptical of the language models' performance, you read up on proper testing practices. You stumble upon the concept of [test-rested stability](https://en.wikipedia.org/wiki/Repeatability), which roughtly states that:\n",
    "\n",
    "\"_Measurements taken by a single person or instrument on the same item, under the same conditions, and in a short period of time, should have the same results._\"\n",
    "\n",
    "In our case, we would assume an LM would have the same performance on a given question regardless of the correct answer position. One way of testing this is by using the following metric:\n",
    "\n",
    "$$\\text{test-retest metric} = \\frac{1}{N}\\sum_{i=1}^N \\frac{1}{M}\\sum_{j=1}^M c^i_0 c_j^i,$$\n",
    "\n",
    "where $c^i_0 \\in \\{0, 1\\}$ indicates whether the model answers the $i^{\\text{th}}$ question correctly (1 if correct, 0 if incorrect). $c_j^i$ indicates whether the model answers the $i^{\\text{th}}$ question correctly in the $j^{\\text{th}}$ shuffled version of the answer label content. Finally, $M$ is the total number of shuffles and $N$ is the dataset size.\n",
    "\n",
    "Task: compute the test-retest metric for each language model using the original `lm_scores_mmlu.csv` file and the new `lm_scores_mmlu_shuffle.csv` file. Using a bar plot, visualize your results by comparing the accuracy of the original `lm_scores_mmlu.csv` and the test-retest scores.\n",
    "\n",
    "**hints**\n",
    "- what is $M$ in our case?\n",
    "\n",
    "(bonus: no points, but so much sweet, sweet knowledge - check out [the following article](https://arxiv.org/pdf/2406.19470v1))"
   ]
  },
  {
   "cell_type": "code",
   "execution_count": null,
   "id": "5b55fcfc-6de9-4cd3-bf2d-bde399ae2fbc",
   "metadata": {},
   "outputs": [],
   "source": []
  },
  {
   "cell_type": "markdown",
   "id": "b70bee6e-0c81-4f5a-b1a8-16a96aa2ae17",
   "metadata": {},
   "source": [
    "### 2.7 (2 pt)\n",
    "\n",
    "A. Using the unshuffled data: For each LM, print the distribution of the answers they give as well as the accuracy conditioned on the answer they give.\n",
    "\n",
    "B. /Discuss:/ Describe what you observe\n",
    "\n",
    "[bonus: not scored, but again _that sweet, sweet knowledge_] Could you think of a plausible explanation?"
   ]
  },
  {
   "cell_type": "code",
   "execution_count": null,
   "id": "4956581b-d047-46cb-ae71-1508a9a0b466",
   "metadata": {},
   "outputs": [],
   "source": [
    "# A"
   ]
  },
  {
   "cell_type": "markdown",
   "id": "65639228",
   "metadata": {},
   "source": [
    "B. /Discuss:/"
   ]
  },
  {
   "cell_type": "markdown",
   "id": "ce3186fe-ef8e-4af3-9a07-a6081d454e5a",
   "metadata": {},
   "source": [
    "## Task 3 (16 points): What do Questions and Answers look like for a Language Model?\n",
    "\n",
    "While you feel pretty good about the tests you conducted so far, something still bothers you: what if the language models don't see the data like you do? Suddenly, you receive a phone call from a wise AI sage in the West, _Westoda_:\n",
    "\n",
    "```\n",
    "\"Hmm, correct you are, young padawan, to question how the world is seen by large language models! Simple 'text' it is not, hmm? No, no, no! Characters and words, the way of puny humans, this is not, heh heh heh.\n",
    "\n",
    "'Tokens', they use, yes! Mysterious and powerful, these tokens are. Expand our vocabulary, they do, beyond the simple 'a to Z'. Chunky blocks of text, they become, yes! 'Hello world', a simple phrase it may seem. But to a language model, '[24912, 2375]' it might appear, yes! Confusing, it is, hmm?\n",
    "\n",
    "Wise, it would be, to explore these MMLU data points through the eyes of a language model, you think? Yes, yes! Much to learn, there is. The ways of the tokens, understand you must, if truly comprehend the great LMs, you wish to.\n",
    "Meditate on this, you should. The force of natural language processing, strong it is. But patience, you must have, my young padawan. For only through great study and contemplation, will the mysteries of the tokens reveal themselves to you, they will. Yes, hmmm!\"\n",
    "```\n",
    "\n",
    "Admittingly, Westoda at times speaks in riddles… However, he was explaining a crucial aspect of modern LMs called [Tokenization](https://learn.microsoft.com/en-us/dotnet/ai/conceptual/understanding-tokens):\n",
    "\n",
    "\n",
    "“Tokens are words, character sets, or combinations of words and punctuation that are used by [language models (LMs)] to decompose text into. Tokenization is the first step in training”\n",
    "\n",
    "Instead of characters, LMs process natural language using “tokens”. While this is useful for a number of reasons, it does at times introduce some “unintuitive” behavior…"
   ]
  },
  {
   "cell_type": "code",
   "execution_count": null,
   "id": "e2c66517-938b-4331-9eea-1b23fe4ad9e7",
   "metadata": {},
   "outputs": [],
   "source": [
    "# PROVIDED CODE\n",
    "\n",
    "try:\n",
    "    import tiktoken\n",
    "except Exception as e:\n",
    "    print('installing tiktoken package')\n",
    "    \n",
    "    !pip install tiktoken\n",
    "    \n",
    "    import tiktoken\n",
    "\n",
    "def tokenize_text(s):\n",
    "    enc = tiktoken.encoding_for_model('gpt-4o')\n",
    "    tokens = enc.encode(str(s))\n",
    "    return tokens\n",
    "\n",
    "example_string = 'hello world'\n",
    "print(f'humans see: \"{example_string}\" --> language models see: {tokenize_text(example_string)}')"
   ]
  },
  {
   "cell_type": "markdown",
   "id": "3c8019ee-7d52-496f-afff-c96f2f9db08c",
   "metadata": {},
   "source": [
    "### 3.1 (5 pt)\n",
    "\n",
    "Use the provided code in the cell above to \"see the world through the eyes of a language model\":\n",
    "\n",
    "A. Tokenize the questions of the original MMLU data provided in task 1: `task_1/mmlu_data/test.csv` and plot the token distribution (the frequency of each token).\n",
    "\n",
    "B. Same as (A), but now for the answers in columns (columns \"A\", \"B\", \"C\", and \"D\").\n",
    "\n",
    "C. Isolate the tokens for the strings \"A\", \"B\", \"C\", and \"D\", then, for their occurances in both questions and answers, print their relative distribution to each other.\n",
    "\n",
    "**hint**\n",
    "- There are a _lot_ of tokens, consider using a cutoff point and log scale\n",
    "- For (c), they should sum to 1"
   ]
  },
  {
   "cell_type": "code",
   "execution_count": null,
   "id": "a9a1e97b-3a31-41b1-a9c3-fb84cb1740d9",
   "metadata": {},
   "outputs": [],
   "source": [
    "# A"
   ]
  },
  {
   "cell_type": "code",
   "execution_count": null,
   "id": "fe1f8be8",
   "metadata": {},
   "outputs": [],
   "source": [
    "# B"
   ]
  },
  {
   "cell_type": "code",
   "execution_count": null,
   "id": "cd392df7",
   "metadata": {},
   "outputs": [],
   "source": [
    "# C"
   ]
  },
  {
   "cell_type": "markdown",
   "id": "a674929c-68e1-4cd8-97b3-efa0cdae4874",
   "metadata": {},
   "source": [
    "### 3.2 (3 pt)\n",
    "\n",
    "What if the number of \"A\", \"B\", \"C\", and \"D\" tokens in the question and answer pairs could influence a language model's decisions?\n",
    "\n",
    "A. For each combined question-answers pair, compute: \n",
    "1. the number of \"A\", \"B\", \"C\", and \"D\" tokens; and\n",
    "2. the total number of tokens.\n",
    "3. then, group by the \"correct\" answer and compute the mean frequency of A, B, C, and D tokens and the total number of tokens. \n",
    "4. finally, print your results\n",
    "\n",
    "B. /Discuss:/ What do you think of the hypothesis that the frequency of A, B, C, and D tokens could influence answers?\n"
   ]
  },
  {
   "cell_type": "code",
   "execution_count": null,
   "id": "25419cc1-f058-4c51-a0aa-577272b8b578",
   "metadata": {},
   "outputs": [],
   "source": [
    "# A"
   ]
  },
  {
   "cell_type": "markdown",
   "id": "3ea8a279",
   "metadata": {},
   "source": [
    "B. /Discuss:/"
   ]
  },
  {
   "cell_type": "markdown",
   "id": "af25ef95-d2ce-4112-87f7-8b0a52755e2a",
   "metadata": {},
   "source": [
    "### 3.3 (4 pt)\n",
    "\n",
    "Three of the most important considerations when deciding between language models are:\n",
    "\n",
    "Quality\n",
    "Costs\n",
    "Speed\n",
    "\n",
    "So far, much of your analysis has focused on quality. However, the government has indicated that they are quite concerned about both the total costs and speed as well. Specifically, it has been brought to their attention that a new `turbo` model has been launched! \n",
    "\n",
    "This model is both cheaper and faster than the models you evaluated so far. However, there is a catch: the context length* is much smaller than that of the other LMS. Namely, it can only process **300** tokens during inference. Meanwhile, the other models can process up to 100K tokens! \n",
    "\n",
    "*_The “context length” refers to the number of tokens that can be given to an LM as input._\n",
    "\n",
    "A. Are there subjects where using the cheaper model might be problematic? I.e., where part of the question and answer(s) might not fit completely in the context?\n",
    "\n",
    "B. /Discuss:/ Can you think of a strategy that would balance the needs of the government?\n",
    "\n",
    "**hint**:\n",
    "- An LM needs to have both the question and the different answer options in its context"
   ]
  },
  {
   "cell_type": "code",
   "execution_count": null,
   "id": "a88a6fa3-2735-44d7-9944-076cc9f679ed",
   "metadata": {},
   "outputs": [],
   "source": [
    "# A"
   ]
  },
  {
   "cell_type": "markdown",
   "id": "47f8a44a",
   "metadata": {},
   "source": [
    "B. /Dicsuss:/"
   ]
  },
  {
   "cell_type": "markdown",
   "id": "110f07bf-558f-467c-8f66-d88db561d455",
   "metadata": {},
   "source": [
    "### 3.4 (4 pt)\n",
    "\n",
    "/Discuss:/ The time has come to give your final recommendation on the use of LMs in education to the government! Taking into account everything you analyzed in all the preceding tasks (1, 2, and 3), please write a short recommendation consisting of 4 bullet points discussing your concerns.\n",
    "\n",
    "**hint**\n",
    "- Try to use the MECE framework: _Mutually Exclusive Collectively Exhaustive_"
   ]
  },
  {
   "cell_type": "markdown",
   "id": "434a5fa5",
   "metadata": {},
   "source": [
    "/Discuss:/\n",
    "1. \n",
    "\n",
    "2. \n",
    "\n",
    "3. \n",
    "\n",
    "4. "
   ]
  }
 ],
 "metadata": {
  "kernelspec": {
   "display_name": "ada",
   "language": "python",
   "name": "python3"
  },
  "language_info": {
   "codemirror_mode": {
    "name": "ipython",
    "version": 3
   },
   "file_extension": ".py",
   "mimetype": "text/x-python",
   "name": "python",
   "nbconvert_exporter": "python",
   "pygments_lexer": "ipython3",
   "version": "3.13.7"
  }
 },
 "nbformat": 4,
 "nbformat_minor": 5
}
