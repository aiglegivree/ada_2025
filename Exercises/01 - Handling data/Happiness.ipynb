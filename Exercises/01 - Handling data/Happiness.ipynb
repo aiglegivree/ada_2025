{
 "cells": [
  {
   "cell_type": "markdown",
   "id": "51ba70c653d8d9b2",
   "metadata": {},
   "source": [
    "## Data from World Happiness Report\n",
    "\n",
    "The World Happiness Report is an annual publication of the United Nations Sustainable Development Solutions Network. It contains articles, and rankings of national happiness based on respondent ratings of their own lives, which the report also correlates with various life factors.\n",
    "\n",
    "In this notebook we will explore the happiness of different countries and the features associated.\n",
    "The datasets that we will use are available in *Data*: **happiness2020.pkl** and **countries_info.csv**.\n",
    "\n",
    "Although the features are self-explanatory, here a summary: \n",
    "\n",
    "**happiness2020.pkl**\n",
    "* country: *Name of the country*\n",
    "* happiness_score: *Happiness score*\n",
    "* social_support: *Social support (mitigation the effects of inequality)*\n",
    "* healthy_life_expectancy: *Healthy Life Expectancy*\n",
    "* freedom_of_choices: *Freedom to make life choices*\n",
    "* generosity: *Generosity (charity, volunteers)*\n",
    "* perception_of_corruption: *Corruption Perception*\n",
    "* world_region: *Area of the world of the country*\n",
    "\n",
    "**countries_info.csv**\n",
    "* country_name: *Name of the country*\n",
    "* area: *Area in sq mi*\n",
    "* population: *Number of people*\n",
    "* literacy: *Literacy percentage*"
   ]
  },
  {
   "cell_type": "code",
   "execution_count": null,
   "id": "8a1a5f34c3605465",
   "metadata": {},
   "outputs": [],
   "source": [
    "!head Data/countries_info.csv"
   ]
  },
  {
   "cell_type": "code",
   "execution_count": null,
   "id": "8de0d98914191931",
   "metadata": {},
   "outputs": [],
   "source": [
    "import pandas as pd\n",
    "%matplotlib inline\n",
    "\n",
    "\n",
    "DATA_FOLDER = 'Data/'\n",
    "\n",
    "HAPPINESS_DATASET = DATA_FOLDER+\"happiness2020.csv\"\n",
    "COUNTRIES_DATASET = DATA_FOLDER+\"countries_info.csv\""
   ]
  },
  {
   "cell_type": "markdown",
   "id": "fc4c455c8d0d7802",
   "metadata": {},
   "source": [
    "## Task 1: Load the data\n",
    "\n",
    "Load the 2 datasets in Pandas dataframes (called *happiness* and *countries*), and show the first rows.\n",
    "\n",
    "\n",
    "**Hint**: Use the correct reader and verify the data has the expected format."
   ]
  },
  {
   "cell_type": "code",
   "execution_count": null,
   "id": "ec891fd62049fe8e",
   "metadata": {},
   "outputs": [],
   "source": [
    "happiness = pd.read_csv(HAPPINESS_DATASET,index_col=['country'])\n",
    "countries = pd.read_csv(COUNTRIES_DATASET,index_col=['country_name'])\n",
    "countries[\"literacy\"] = countries[\"literacy\"].str.replace(\",\",\".\").astype(float)\n",
    "happiness.index = happiness.index.str.lower()\n",
    "happiness .head(20)\n"
   ]
  },
  {
   "cell_type": "code",
   "execution_count": null,
   "id": "7edaff418ab74668",
   "metadata": {},
   "outputs": [],
   "source": [
    "countries.head(20)"
   ]
  },
  {
   "cell_type": "markdown",
   "id": "f53be792df969077",
   "metadata": {},
   "source": [
    "## Task 2: Let's merge the data\n",
    "\n",
    "Create a dataframe called *country_features* by merging *happiness* and *countries*. A row of this dataframe must describe all the features that we have about a country.\n",
    "\n",
    "**Hint**: Verify that all the rows are in the final dataframe."
   ]
  },
  {
   "cell_type": "code",
   "execution_count": null,
   "id": "c974355446ff8bc0",
   "metadata": {},
   "outputs": [],
   "source": [
    "country_features=pd.merge(happiness ,countries,right_index=True,left_index=True)\n",
    "country_features\n"
   ]
  },
  {
   "cell_type": "markdown",
   "id": "292d95221dfd124b",
   "metadata": {},
   "source": [
    "## Task 3: Where are people happier?\n",
    "\n",
    "Print the top 10 countries based on their happiness score (higher is better)."
   ]
  },
  {
   "cell_type": "code",
   "execution_count": null,
   "id": "306c6975148c4972",
   "metadata": {},
   "outputs": [],
   "source": [
    "country_features.happiness_score.sort_values(ascending=False).head(10)"
   ]
  },
  {
   "cell_type": "code",
   "execution_count": null,
   "id": "a9f3f4290a23677",
   "metadata": {},
   "outputs": [],
   "source": [
    "df = country_features.reset_index()\n",
    "df.pivot_table(index='world_region',columns='country',values='happiness_score').mean(axis='columns',numeric_only=True)"
   ]
  },
  {
   "cell_type": "markdown",
   "id": "90c40ba3119897a1",
   "metadata": {},
   "source": [
    "We are interested to know in what world region people are happier. \n",
    "\n",
    "Create and print a dataframe with the (1) average happiness score and (2) the number of contries for each world region.\n",
    "Sort the result to show the happiness ranking."
   ]
  },
  {
   "cell_type": "code",
   "execution_count": null,
   "id": "7c8c1be5ef27a223",
   "metadata": {},
   "outputs": [],
   "source": [
    "df = country_features.reset_index()\n",
    "country_count=pd.DataFrame(country_features.world_region.value_counts())\n",
    "avg_happiness = pd.DataFrame(df.pivot_table(index='world_region',columns='country',values='happiness_score').mean(axis='columns',numeric_only=True))\n",
    "avg_happiness.rename(columns={0:'average_happiness'}, inplace=True)\n",
    "region_happiness = pd.merge(country_count,avg_happiness,right_index=True,left_index=True)\n",
    "region_happiness.head(15)"
   ]
  },
  {
   "cell_type": "markdown",
   "id": "83de122a25dc1e97",
   "metadata": {},
   "source": [
    "The first region has only a few countries! What are them and what is their score?"
   ]
  },
  {
   "cell_type": "code",
   "execution_count": null,
   "id": "d73e34fbffc26ce3",
   "metadata": {},
   "outputs": [],
   "source": [
    "country_features[country_features.world_region=='North America and ANZ'].happiness_score"
   ]
  },
  {
   "cell_type": "markdown",
   "id": "6cdbed2448e98dba",
   "metadata": {},
   "source": [
    "## Task 4: How literate is the world?\n",
    "\n",
    "Print the names of the countries with a level of literacy of 100%. \n",
    "\n",
    "For each country, print the name and the world region in the format: *{region name} - {country name} ({happiness score})*"
   ]
  },
  {
   "cell_type": "code",
   "execution_count": null,
   "id": "5a16897bdbfdb42d",
   "metadata": {},
   "outputs": [],
   "source": [
    "for i in country_features[country_features['literacy']==100.0].index :\n",
    "    print(f\"{country_features.loc[i]['world_region']} - {i} {country_features.loc[i]['happiness_score']}\")"
   ]
  },
  {
   "cell_type": "markdown",
   "id": "604fdbba23c6eba3",
   "metadata": {},
   "source": [
    "What is the global average?"
   ]
  },
  {
   "cell_type": "code",
   "execution_count": null,
   "id": "5a248f78d15a12f1",
   "metadata": {},
   "outputs": [],
   "source": [
    "print(country_features.literacy.mean())"
   ]
  },
  {
   "cell_type": "markdown",
   "id": "e8bf02c304eea4e8",
   "metadata": {},
   "source": [
    "Calculate the proportion of countries with a literacy level below 50%. Print the value in percentage, formatted with 2 decimals."
   ]
  },
  {
   "cell_type": "code",
   "execution_count": null,
   "id": "582a54f9d65e6589",
   "metadata": {},
   "outputs": [],
   "source": [
    "print(f\"{len(country_features.query('literacy>50')) / len(country_features):.2%} \")"
   ]
  },
  {
   "cell_type": "markdown",
   "id": "60e73d9bc7dd70d5",
   "metadata": {},
   "source": [
    "Print the raw number and the percentage of world population that is illiterate."
   ]
  },
  {
   "cell_type": "code",
   "execution_count": null,
   "id": "303ee73e3400faf5",
   "metadata": {},
   "outputs": [],
   "source": [
    "country_features[\"illiterate_population\"]=(100-country_features[\"literacy\"])*country_features[\"population\"]/100\n",
    "print(f\"there are approximately {int(country_features.illiterate_population.sum())} illiterate individuals in the world, that represent {country_features.illiterate_population.sum()/country_features.population.sum():.2%} of the world population\")"
   ]
  },
  {
   "cell_type": "markdown",
   "id": "9d9aceae2572d8fb",
   "metadata": {},
   "source": [
    "## Task 5: Population density\n",
    "\n",
    "Add to the dataframe a new field called *population_density* computed by dividing *population* by *area*."
   ]
  },
  {
   "cell_type": "code",
   "execution_count": null,
   "id": "4d44859551e6eec3",
   "metadata": {},
   "outputs": [],
   "source": [
    "country_features[\"population_density\"]=country_features[\"population\"]/country_features[\"area\"]\n",
    "country_features.head(15)"
   ]
  },
  {
   "cell_type": "markdown",
   "id": "10d6a66685be8df6",
   "metadata": {},
   "source": [
    "What is the happiness score of the 3 countries with the lowest population density?"
   ]
  },
  {
   "cell_type": "code",
   "execution_count": null,
   "id": "72548ad40873e171",
   "metadata": {},
   "outputs": [],
   "source": [
    "country_features.loc[country_features.population_density.sort_values(ascending=True).head(3).index].happiness_score"
   ]
  },
  {
   "cell_type": "markdown",
   "id": "6e8d6535b9f7daf1",
   "metadata": {},
   "source": [
    "## Task 6: Healty and happy?\n",
    "\n",
    "Plot in a scatter plot the happiness score (x) and healty life expectancy (y)."
   ]
  },
  {
   "cell_type": "code",
   "execution_count": null,
   "id": "d688c57bcebc9647",
   "metadata": {},
   "outputs": [],
   "source": [
    "country_features.plot.scatter(x='happiness_score',y='healthy_life_expectancy')"
   ]
  },
  {
   "cell_type": "markdown",
   "id": "a0229736dc01fabd",
   "metadata": {},
   "source": [
    "Feel free to continue the exploration of the dataset! We'll release the solutions next week.\n",
    "\n",
    "----\n",
    "Enjoy EPFL and be happy, next year Switzerland must be #1."
   ]
  },
  {
   "cell_type": "markdown",
   "id": "be32ab0cc4d83171",
   "metadata": {},
   "source": []
  }
 ],
 "metadata": {
  "kernelspec": {
   "display_name": "ada",
   "language": "python",
   "name": "python3"
  },
  "language_info": {
   "name": "python",
   "version": "3.13.7"
  }
 },
 "nbformat": 4,
 "nbformat_minor": 5
}
