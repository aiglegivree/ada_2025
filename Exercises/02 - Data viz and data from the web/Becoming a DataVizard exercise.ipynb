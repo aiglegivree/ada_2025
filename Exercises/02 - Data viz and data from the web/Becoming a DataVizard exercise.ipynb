{
 "cells": [
  {
   "metadata": {},
   "cell_type": "markdown",
   "source": [
    "## Becoming a DataVizard exercise \n",
    "\n",
    "This is an exercise about data visualization, welcome! You will use common python libraries, Matplotlib and Seaborn to create effective and clear visualizations. You will work with two datasets: a dataset containing information about the top ten grossing movies in each year, and a dataset with information about the population in Swiss communes. \n",
    "\n",
    "These are the visualizations we will make, and that you will use to solve the exercise:\n",
    "- [Histogram](https://matplotlib.org/3.3.1/api/_as_gen/matplotlib.pyplot.hist.html)\n",
    "- [Boxplot](https://matplotlib.org/api/_as_gen/matplotlib.pyplot.boxplot.html)\n",
    "- [Scatterplot](https://matplotlib.org/api/_as_gen/matplotlib.pyplot.scatter.html)\n",
    "- [Plot](https://matplotlib.org/api/_as_gen/matplotlib.pyplot.plot.html)\n",
    "- [Jointplot](https://seaborn.pydata.org/generated/seaborn.jointplot.html)\n",
    "- [Barplot](https://seaborn.pydata.org/generated/seaborn.barplot.html)\n",
    "- [Violinplot](https://seaborn.pydata.org/generated/seaborn.violinplot.html)\n",
    "- [Errorbar](https://matplotlib.org/3.1.1/api/_as_gen/matplotlib.pyplot.errorbar.html)\n",
    "- [Filled plot](https://matplotlib.org/api/_as_gen/matplotlib.pyplot.fill_between.html)\n",
    "- [Panels](https://matplotlib.org/api/_as_gen/matplotlib.pyplot.subplots.html)\n",
    "- [Heatmap](https://seaborn.pydata.org/generated/seaborn.heatmap.html)\n",
    "- [Log-log](https://matplotlib.org/3.1.1/api/_as_gen/matplotlib.pyplot.loglog.html)\n",
    "\n",
    "In the linked documentation, you will find complete information, and a lot more details compared to what is outlined in this notebook. We will make simple visualizations, but you will notice that all of the visualizations consider many optional parameters. You are encouraged to explore them, and modify them to make the most efficient visualizations, and match your desired style.\n",
    "\n",
    "Beyond Matplotlib and Seaborn, there are many more resources that might be useful for you, for example:\n",
    "- [ggplot](http://ggplot.yhathq.com/)\n",
    "- [plotly](https://plotly.com/python/)\n",
    "- [Geopy](https://geopy.readthedocs.io/en/stable/) and [Folium](https://python-visualization.github.io/folium/)\n",
    "\n",
    "Create your custom signature colorpalettes:\n",
    "- [coolors](https://coolors.co/)"
   ],
   "id": "ff6ccb4fbd5be2a"
  },
  {
   "metadata": {},
   "cell_type": "code",
   "outputs": [],
   "execution_count": null,
   "source": [
    "# Let's load necessary libraries and the datasets\n",
    "# \"pip install seaborn\" if necessary\n",
    "\n",
    "import pandas as pd\n",
    "import numpy as np\n",
    "import matplotlib.pyplot as plt\n",
    "from bokeh.colors.named import colors\n",
    "from bokeh.layouts import column\n",
    "from matplotlib.pyplot import xlabel\n",
    "from numpy.ma.core import min_val\n",
    "from pandas.io.pytables import dropna_doc\n",
    "%matplotlib inline\n",
    "import seaborn as sns\n",
    "import math\n",
    "\n",
    "data_folder = './Data/'\n",
    "\n",
    "\n",
    "movies = pd.read_csv(data_folder+'blockbusters.csv')\n",
    "movies['worldwide_gross'] = movies['worldwide_gross'].str.replace('$', '', regex=False).str.replace(',', '', regex=False).astype(float)\n",
    "\n",
    "commune_pop = pd.read_excel(data_folder+'communes_pop.xls',skiprows=5,skipfooter=7,\n",
    "                            sheet_name='2017',names=['commune','population_Jan',\n",
    "                                                     'birth_alive','death','natrual_increase',\n",
    "                                                     'arrivals','departure','migratory_balance',\n",
    "                                                     'divergence_statistic','population_Dec','variation_num',\n",
    "                                                     'variation_ratio'])\n",
    "\n",
    "pop_per_commune = commune_pop[[name.startswith('......') for name in commune_pop.commune]].copy()"
   ],
   "id": "e414f1c4c2fd6abc"
  },
  {
   "metadata": {},
   "cell_type": "markdown",
   "source": [
    "### Note:\n",
    "#### In case you have trouble opening the \"communes_pop.xls\" file, try installing an input library: \"pip install openpyxl\""
   ],
   "id": "dfb1223cc29a0e28"
  },
  {
   "metadata": {},
   "cell_type": "markdown",
   "source": "# 1. Tutorial: Using data visualization libraries",
   "id": "cf054475868b47ea"
  },
  {
   "metadata": {},
   "cell_type": "markdown",
   "source": [
    "We will use the blockbusters dataset. Summary of the features:\n",
    "- *Main_Genre*: the primary genre of the movie\n",
    "- *Genre_2*\n",
    "- *Genre_3*\n",
    "- *imdb_rating*\n",
    "- *length*: movie length in minutes\n",
    "- *rank_in_year*: rank among the top 10 movies released that year\n",
    "- *rating*: audience rating\n",
    "- *studio*: the studio that produced the movie\n",
    "- *title*: movie title\n",
    "- *worldwide_gross*: total worldwide revenue in dollars\n",
    "- *year*: year of release\n"
   ],
   "id": "5bb51b30ccd6f425"
  },
  {
   "metadata": {},
   "cell_type": "markdown",
   "source": [
    "## Visualizing a single variable\n",
    "\n",
    "- First we will see how to visualize a single variable using matplotlib library. Let's focus on \"Worldwide gross revenue\" column of the dataframe and inspect the distribution, using histogram and boxplot.\n",
    "- Notice the use of  plt.xlabel(), plt.ylabel(), plt.title() - every visualization should have axis labeled, and a title!\n",
    "- plt.hist() takes a couple of important arguments: bins - the number of bins, and range - the range of values considered in the histogram."
   ],
   "id": "c202d0ea27e43cc2"
  },
  {
   "metadata": {},
   "cell_type": "code",
   "outputs": [],
   "execution_count": null,
   "source": [
    "#we use pandas wrapper\n",
    "movies['worldwide_gross'].hist(bins = 100)\n",
    "\n",
    "#alternatively, we can use matplotlib directly\n",
    "#plt.hist(movies['worldwide_gross'].values, bins = 100)\n",
    "\n",
    "plt.xlabel('Worldwide gross revenue')\n",
    "plt.ylabel('Number of movies')\n",
    "plt.title('Gross revenue, histogram');"
   ],
   "id": "83f640b00bfa1e48"
  },
  {
   "metadata": {},
   "cell_type": "code",
   "outputs": [],
   "execution_count": null,
   "source": [
    "plt.boxplot(movies['worldwide_gross'])\n",
    "plt.xticks([])\n",
    "plt.title('Worldwide gross revenue');"
   ],
   "id": "e789a5e6bedb203d"
  },
  {
   "metadata": {},
   "cell_type": "markdown",
   "source": [
    "## Visualizing two continuous variables\n",
    "\n",
    "- Let's see if blockbusters with higher ratings also make more revenue!\n",
    "- There are many ways how a relationship between two variables can be examined. The simplest one is a scatterplot, using plt.scatterplot()."
   ],
   "id": "de5183853820edd7"
  },
  {
   "metadata": {},
   "cell_type": "code",
   "outputs": [],
   "execution_count": null,
   "source": [
    "plt.scatter(movies['worldwide_gross'], movies['imdb_rating'])\n",
    "\n",
    "plt.xlabel('Worldwide gross revenue')\n",
    "plt.ylabel('IMDB rating')"
   ],
   "id": "107c6b60de8cbc92"
  },
  {
   "metadata": {},
   "cell_type": "markdown",
   "source": [
    "- Visually examining the plot, how do you interpret the relationship between revenue and IMDB rating?\n",
    "- Markers indicatig the datapoints seem too large, and we cannot get a sense of the distribution in the area of the plot where the markers are overlapping.\n",
    "- We'll try to make the markers smaller by specifying a small \"s\" size parameter."
   ],
   "id": "a888f5c80eb83df4"
  },
  {
   "metadata": {},
   "cell_type": "code",
   "outputs": [],
   "execution_count": null,
   "source": [
    "plt.scatter(movies['worldwide_gross'], movies['imdb_rating'], s = 2)\n",
    "\n",
    "plt.xlabel('Worldwide gross revenue')\n",
    "plt.ylabel('IMDB rating')"
   ],
   "id": "74fb9a5d9d4f844e"
  },
  {
   "metadata": {},
   "cell_type": "markdown",
   "source": "- Do you notice anything strange? What could be the reason?",
   "id": "93c437cb73857e44"
  },
  {
   "metadata": {},
   "cell_type": "markdown",
   "source": "Scatterplots are not useful when the number of datapoints is very large, as it becomes hard to interpret it. Seaborn library offers many alternative effective ways of visualizing join distributions. ",
   "id": "68ece2cd9a48e6df"
  },
  {
   "metadata": {},
   "cell_type": "code",
   "outputs": [],
   "execution_count": null,
   "source": "sns.jointplot(x=movies['worldwide_gross'], y=movies['imdb_rating'], kind=\"hex\")",
   "id": "21ef421b91ccc3c4"
  },
  {
   "metadata": {},
   "cell_type": "code",
   "outputs": [],
   "execution_count": null,
   "source": "sns.jointplot(data = movies, x = 'worldwide_gross', y = 'imdb_rating', kind=\"kde\")\n",
   "id": "4925b0aca7d1f812"
  },
  {
   "metadata": {},
   "cell_type": "code",
   "outputs": [],
   "execution_count": null,
   "source": "sns.jointplot(data = movies, x = 'worldwide_gross', y = 'imdb_rating', kind=\"reg\")",
   "id": "2c01ab85ad082d24"
  },
  {
   "metadata": {},
   "cell_type": "markdown",
   "source": [
    "## Visualizing two variables, continuous and categorical\n",
    "\n",
    "- Let's consider the five most prevalent genres, and examine the revenue.\n",
    "- We'll show barplot (we get errorbars by default, how neat!), boxplot, and violinplot. Seaborn offers many more compelling visualizations. We will stop here, but see the gallery for more examples: https://seaborn.pydata.org/examples/index.html"
   ],
   "id": "cbbe9f570d8c1b67"
  },
  {
   "metadata": {},
   "cell_type": "code",
   "outputs": [],
   "execution_count": null,
   "source": [
    "ax = sns.barplot(x=\"Main_Genre\", y=\"worldwide_gross\", data=movies.loc[movies['Main_Genre'].isin(['Thriller','Comedy',\n",
    "                                                                                      'Fantasy','Sci-Fi','Romance'])])"
   ],
   "id": "f81c4ccc31618079"
  },
  {
   "metadata": {},
   "cell_type": "code",
   "outputs": [],
   "execution_count": null,
   "source": [
    "ax = sns.boxplot(x=\"Main_Genre\", y=\"worldwide_gross\", data=movies.loc[movies['Main_Genre'].isin(['Thriller','Comedy',\n",
    "                                                                                      'Fantasy','Sci-Fi','Romance'])])"
   ],
   "id": "8c7252a0a6ee46e0"
  },
  {
   "metadata": {},
   "cell_type": "code",
   "outputs": [],
   "execution_count": null,
   "source": [
    "ax = sns.violinplot(x=\"Main_Genre\", y=\"worldwide_gross\", data=movies.loc[movies['Main_Genre'].isin(['Thriller','Comedy',\n",
    "                                                                                      'Fantasy','Sci-Fi','Romance'])])"
   ],
   "id": "e72bea5c7c325a12"
  },
  {
   "metadata": {},
   "cell_type": "markdown",
   "source": [
    "# 2. Exercises: Making more advanced visualizations\n",
    "\n",
    "\n",
    "To make a good data visualization, we first need a clear idea of what we want to visualize! Do we aggregate the data, and how? What quantity should be on the different axis? How to use colors and item sizes? It often helps to sketch the visualization by hand before coding it up. By doing that, we can also give ourselves a moment to speculate what the visualization could look like under different hypotheses.\n",
    "\n",
    "In the next three excercises, you are provided with descriptions and rough sketches of visualizations that are possibly useful to understand the movies dataset.\n",
    "\n",
    "\n",
    "## 2.1 Visualizing uncertainty\n",
    "\n",
    "- How did the average revenue of blockbusters evolve? Visualize the average yearly worldwide gross revenue, together with the standard deviation. Below, you are provided with two rough sketches of how the visualization could look like. We could indicate the margin of error with lines with caps, or by contouring between the upper and lower bound.\n",
    "\n",
    "- Hints: use Matplotlib errorbar and fill_between functions.\n",
    "\n",
    "- Did the average revenue increase/decrease over time? What do you observe?\n",
    "\n",
    "\n",
    "<img src=\"figure0.jpg\" style=\"width: 400px;\" align=\"left\" />\n",
    "<img src=\"figure1.jpg\" style=\"width: 400px;\" align=\"left\"/>\n",
    "\n",
    "\n",
    "<br>\n"
   ],
   "id": "5edbc0c7afe4fd2e"
  },
  {
   "metadata": {},
   "cell_type": "code",
   "outputs": [],
   "execution_count": null,
   "source": "# Calculate yearly stats across movies here",
   "id": "1dd1e86abd8b594c"
  },
  {
   "metadata": {},
   "cell_type": "code",
   "outputs": [],
   "execution_count": null,
   "source": "# Write your code to make plot with errorbars here",
   "id": "a10af924a9ae435b"
  },
  {
   "metadata": {},
   "cell_type": "code",
   "outputs": [],
   "execution_count": null,
   "source": "# Write your code to make filled plot here",
   "id": "fb2afe6bd266e49c"
  },
  {
   "metadata": {},
   "cell_type": "code",
   "outputs": [],
   "execution_count": null,
   "source": "# Write your interpretation here",
   "id": "d838714e6ed8500e"
  },
  {
   "metadata": {},
   "cell_type": "markdown",
   "source": [
    "## 2.2 Creating panels\n",
    "\n",
    "- Next, we want to understand how long the blockbusters are in the different genres. When working with a large number of categories (we have 16 genres in the movies dataset), the visualizations easily become cluttered, and it becomes useful to make panels with small subplots.\n",
    "\n",
    "- Make a 4x4 panel for the 16 genres. In each subplot, show a histogram with the distribution of movie lengths for different categories. Below, find a skets of how this visualization could look like. Note the same x- and y-scale that allows comparison between categories!\n",
    "\n",
    "- Hints: use Matplotlib subplots function to initialize the subplotting axes.\n",
    "\n",
    "- What genres do the longest movies belong too? What can you say about the length of Comedy and animation movies?\n",
    "\n",
    "- How could we assign different color to each subplot (each genre)? What type of palette would be the best choice? Make a variation of the visualzation where each genre is visualized in a different color.\n",
    "\n",
    "<img src=\"figure3.jpg\" style=\"width: 500px;\" align=\"left\">"
   ],
   "id": "cc19f96abaefe835"
  },
  {
   "metadata": {},
   "cell_type": "code",
   "outputs": [],
   "execution_count": null,
   "source": "# Calculate stats by genre here",
   "id": "e30e5611bde01e54"
  },
  {
   "metadata": {},
   "cell_type": "code",
   "outputs": [],
   "execution_count": null,
   "source": "# Write your code to make 4x4 panel here",
   "id": "32c00813c36978ab"
  },
  {
   "metadata": {},
   "cell_type": "code",
   "outputs": [],
   "execution_count": null,
   "source": "# Write your interpretation here",
   "id": "c0d925289d9c6f48"
  },
  {
   "metadata": {},
   "cell_type": "markdown",
   "source": [
    "## 2.3 Heatmaps\n",
    "\n",
    "- What studios make blockbusters in which genre? \n",
    "\n",
    "- There are many studios and many genres. When working with two variables that both have many different categories, there is often no space for representing each combination of two categories with a detailed plot (such as barplot of boxplot). It becomes useful to represent each stratum with one number, indicated with color in a heatmap. Such visualizations are useful to quickly understand the data.\n",
    "\n",
    "- Visualize the number of blockbusters made by each studio, of each genre. You will find below a rough sketch. Hint: use Seaborn heatmap function. \n",
    "\n",
    "- Finally, with a heatmap we can represent three variables, by coding a third variable with color. Try to understand what is the relationship between genres by understanding the co-occurence patterns between the main and secondary genre. What is the average worldwide gross revenue for movies with different combinations of main and second genre?\n",
    "\n",
    "- You should be able to easily answer the following questions from the two visualizations: What genres do the majority of movies made by Warner Bros studio fall into? What is the most successful genre of Walt Disney pictures movies? What studio made the largest number of Romance blockbusters? Which combination of genres brings the highest revenue?\n",
    "\n",
    "\n",
    "\n",
    "<img src=\"figure4.jpg\" style=\"width: 500px;\" align=\"left\">"
   ],
   "id": "adbd54f4bf8bff58"
  },
  {
   "metadata": {},
   "cell_type": "code",
   "outputs": [],
   "execution_count": null,
   "source": "# Write your code to make the first heatmap here",
   "id": "f3580db754b5b872"
  },
  {
   "metadata": {},
   "cell_type": "code",
   "outputs": [],
   "execution_count": null,
   "source": "# Write your code to make the second heatmap here",
   "id": "785d8e02d0dd7528"
  },
  {
   "metadata": {},
   "cell_type": "code",
   "outputs": [],
   "execution_count": null,
   "source": "# Write your interpretations here",
   "id": "80b94ef931f7c9f"
  },
  {
   "metadata": {},
   "cell_type": "markdown",
   "source": [
    "## 2.4 Be a show-off\n",
    "\n",
    "Finally, we did not explore the impact of the rank of the movie among the top ten. How is the rank among the top ten related to the genres? What kind of visualization can be suitable to understand this better? To practice your data viz skills, sketch a potential visualization on a piece of paper, and then implement it using the appropriate type of visualization."
   ],
   "id": "cd900652ec50fe7b"
  },
  {
   "metadata": {},
   "cell_type": "code",
   "outputs": [],
   "execution_count": null,
   "source": "# Write your dataviz show-off code here",
   "id": "11d259ea0008fc82"
  },
  {
   "metadata": {},
   "cell_type": "markdown",
   "source": [
    "## Part 3: Visualizing skewed distributions\n",
    "\n",
    "__3.A__ Familiarize yourself with the \"pop_per_commune\" dataframe, that contains information about each commune, and its population. Plot a histogram of the population counts (population_Dec) and explain your observations. Do not use a log-scale plot for now. What does this histogram tell you about urban and rural communes in Switzerland? Are there any clear outliers on either side, and if so, which communes?"
   ],
   "id": "a964e09dd7724a47"
  },
  {
   "metadata": {},
   "cell_type": "code",
   "outputs": [],
   "execution_count": null,
   "source": "# Write your code here",
   "id": "f3b49cc8cccb8764"
  },
  {
   "metadata": {},
   "cell_type": "markdown",
   "source": [
    "\n",
    "\n",
    "__3.B__ The figure below represents 4 types of histogram. At this stage, your distribution should look like Fig.(a). A common way to represent [power-laws](https://en.wikipedia.org/wiki/Power_law) is to use a histogram using a log-log scale  -- remember: the x-axis of an histogram is segmented in bins of equal sizes and y-values are the average of each bin. As shown in Fig.(b), small bins sizes might introduce artifacts. Fig.(b) and Fig.(c) are examples of histograms with two different bin sizes. Another great way to visualize such distribution is to use a cumulative representation, as shown in Fig.(d), in which the y-axis represents the number of data points with values greater than y. Create the figures (b) and (d) using the data extracted for task 1A. For Fig.(b), represent two histograms using two different bin sizes and provide a brief description of the results. What does this tell you about the relationship between the two variables, namely the frequency of each bin and the value (i.e. population in case of the communal data) for each bin?\n",
    "\n",
    "<img src=\"plaw.png\" style=\"width: 600px;\" align=\"left\">\n",
    "  \n",
    "The figure is extracted from [this paper](https://arxiv.org/pdf/cond-mat/0412004.pdf) that contains more information about this family of distributions."
   ],
   "id": "59ee715171593b7b"
  },
  {
   "metadata": {},
   "cell_type": "code",
   "outputs": [],
   "execution_count": null,
   "source": "# Write your code here",
   "id": "998fe157f94e0e73"
  },
  {
   "metadata": {},
   "cell_type": "code",
   "outputs": [],
   "execution_count": null,
   "source": "# Write your interpretations here",
   "id": "b8466dbc0a45efd"
  }
 ],
 "metadata": {},
 "nbformat": 4,
 "nbformat_minor": 5
}
