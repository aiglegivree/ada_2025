{
 "cells": [
  {
   "cell_type": "markdown",
   "metadata": {},
   "source": [
    "# Describing Data\n",
    "\n",
    "### What do you find in this notebook?\n",
    "\n",
    "In this exercise, first, you will familiarize yourself with the Python libraries 'statsmodels' and 'SciPy' that let you do statistical analysis: calculate descriptive statistics, sample datapoints, study relationships between variables, and perform hypothesis testing. Then, second, you will work on a set of exercises that will let you practice your skills.\n",
    "\n",
    "Here we show a couple of examples of how to do common analyses, but there are many more useful probability distributions and statistical tests. In the linked documentation, you will find complete information, and a lot more details compared to what is outlined in this notebook:\n",
    "- [statsmodels](https://www.statsmodels.org/stable/examples/index.html), [more complete documentation](https://www.statsmodels.org/stable/stats.html)\n",
    "- [SciPy](https://docs.scipy.org/doc/scipy/reference/stats.html)"
   ]
  },
  {
   "cell_type": "markdown",
   "metadata": {},
   "source": [
    "# Tutorial: How to use the libraries\n",
    "\n",
    "- You will be working with the full US 2015 census dataset (acs2015_county_data.csv, available at https://www.kaggle.com/muonneutrino/us-census-demographic-data#acs2015_county_data.csv). Here we load it. Take some time to familiarize yourself with the contents. One row represents one county."
   ]
  },
  {
   "cell_type": "code",
   "metadata": {
    "tags": [],
    "ExecuteTime": {
     "end_time": "2025-10-02T12:11:23.476234Z",
     "start_time": "2025-10-02T12:11:23.471817Z"
    }
   },
   "source": [
    "import pandas as pd\n",
    "import pandas as pd\n",
    "import numpy as np\n",
    "import matplotlib.pyplot as plt\n",
    "%matplotlib inline\n",
    "import seaborn as sns\n",
    "import math\n",
    "\n",
    "#load the statistical libraries\n",
    "from statsmodels.stats import diagnostic\n",
    "from scipy import stats"
   ],
   "outputs": [],
   "execution_count": 44
  },
  {
   "cell_type": "code",
   "metadata": {
    "tags": [],
    "ExecuteTime": {
     "end_time": "2025-10-02T12:10:05.398882Z",
     "start_time": "2025-10-02T12:10:05.381899Z"
    }
   },
   "source": [
    "data_folder = './data/'\n",
    "df = pd.read_csv(data_folder + 'acs2015_county_data.csv')"
   ],
   "outputs": [],
   "execution_count": 2
  },
  {
   "cell_type": "code",
   "metadata": {
    "ExecuteTime": {
     "end_time": "2025-10-02T12:10:05.750981Z",
     "start_time": "2025-10-02T12:10:05.746132Z"
    }
   },
   "source": [
    "df.columns"
   ],
   "outputs": [
    {
     "data": {
      "text/plain": [
       "Index(['CensusId', 'State', 'County', 'TotalPop', 'Men', 'Women', 'Hispanic',\n",
       "       'White', 'Black', 'Native', 'Asian', 'Pacific', 'Citizen', 'Income',\n",
       "       'IncomeErr', 'IncomePerCap', 'IncomePerCapErr', 'Poverty',\n",
       "       'ChildPoverty', 'Professional', 'Service', 'Office', 'Construction',\n",
       "       'Production', 'Drive', 'Carpool', 'Transit', 'Walk', 'OtherTransp',\n",
       "       'WorkAtHome', 'MeanCommute', 'Employed', 'PrivateWork', 'PublicWork',\n",
       "       'SelfEmployed', 'FamilyWork', 'Unemployment'],\n",
       "      dtype='object')"
      ]
     },
     "execution_count": 3,
     "metadata": {},
     "output_type": "execute_result"
    }
   ],
   "execution_count": 3
  },
  {
   "cell_type": "code",
   "metadata": {
    "ExecuteTime": {
     "end_time": "2025-10-02T12:10:07.865794Z",
     "start_time": "2025-10-02T12:10:07.847702Z"
    }
   },
   "source": [
    "df.sample(10)"
   ],
   "outputs": [
    {
     "data": {
      "text/plain": [
       "      CensusId           State         County  TotalPop     Men   Women  \\\n",
       "386      12133         Florida     Washington     24629   13478   11151   \n",
       "1181     23009           Maine        Hancock     54658   26696   27962   \n",
       "1914     37049  North Carolina         Craven    104450   52755   51695   \n",
       "860      19143            Iowa        Osceola      6211    3118    3093   \n",
       "3144     72005     Puerto Rico      Aguadilla     57973   28267   29706   \n",
       "1069     21153        Kentucky       Magoffin     12979    6515    6464   \n",
       "1395     27163       Minnesota     Washington    246670  121924  124746   \n",
       "2665     48285           Texas         Lavaca     19549    9456   10093   \n",
       "1047     21109        Kentucky        Jackson     13357    6650    6707   \n",
       "3212     72139     Puerto Rico  Trujillo Alto     71886   34036   37850   \n",
       "\n",
       "      Hispanic  White  Black  Native  ...  Walk  OtherTransp  WorkAtHome  \\\n",
       "386        3.4   77.4   15.1     0.7  ...   1.0          2.9         2.3   \n",
       "1181       1.3   95.4    0.5     0.4  ...   6.2          2.2         7.9   \n",
       "1914       6.9   66.6   21.1     0.4  ...   1.9          2.5         3.0   \n",
       "860        6.5   91.7    0.4     0.4  ...   6.8          1.9         4.5   \n",
       "3144      96.1    1.7    0.2     0.0  ...   3.6          0.9         1.6   \n",
       "1069       0.3   99.5    0.1     0.0  ...   0.6          0.6         2.2   \n",
       "1395       3.7   84.4    3.8     0.3  ...   1.0          0.9         4.8   \n",
       "2665      17.5   74.6    6.8     0.0  ...   1.6          0.9         4.3   \n",
       "1047       0.1   99.6    0.0     0.0  ...   0.8          1.0         0.7   \n",
       "3212      99.6    0.4    0.0     0.0  ...   1.4          2.9         3.2   \n",
       "\n",
       "      MeanCommute  Employed  PrivateWork  PublicWork  SelfEmployed  \\\n",
       "386          29.3      8307         72.5        18.8           8.4   \n",
       "1181         22.3     26665         70.5        13.6          15.8   \n",
       "1914         20.8     40530         72.1        22.1           5.5   \n",
       "860          17.7      3282         76.8        11.2          11.7   \n",
       "3144         21.3     14616         63.8        27.4           8.7   \n",
       "1069         31.7      3663         74.0        22.7           2.9   \n",
       "1395         25.8    130036         82.4        13.3           4.3   \n",
       "2665         26.5      8929         73.4        14.4          12.1   \n",
       "1047         28.1      3993         72.9        22.1           5.0   \n",
       "3212         34.5     28059         68.9        21.0          10.1   \n",
       "\n",
       "      FamilyWork  Unemployment  \n",
       "386          0.3          11.5  \n",
       "1181         0.1           7.7  \n",
       "1914         0.3          11.4  \n",
       "860          0.2           3.3  \n",
       "3144         0.1          23.2  \n",
       "1069         0.4          12.2  \n",
       "1395         0.1           4.8  \n",
       "2665         0.1           4.0  \n",
       "1047         0.0          12.3  \n",
       "3212         0.0           7.9  \n",
       "\n",
       "[10 rows x 37 columns]"
      ],
      "text/html": [
       "<div>\n",
       "<style scoped>\n",
       "    .dataframe tbody tr th:only-of-type {\n",
       "        vertical-align: middle;\n",
       "    }\n",
       "\n",
       "    .dataframe tbody tr th {\n",
       "        vertical-align: top;\n",
       "    }\n",
       "\n",
       "    .dataframe thead th {\n",
       "        text-align: right;\n",
       "    }\n",
       "</style>\n",
       "<table border=\"1\" class=\"dataframe\">\n",
       "  <thead>\n",
       "    <tr style=\"text-align: right;\">\n",
       "      <th></th>\n",
       "      <th>CensusId</th>\n",
       "      <th>State</th>\n",
       "      <th>County</th>\n",
       "      <th>TotalPop</th>\n",
       "      <th>Men</th>\n",
       "      <th>Women</th>\n",
       "      <th>Hispanic</th>\n",
       "      <th>White</th>\n",
       "      <th>Black</th>\n",
       "      <th>Native</th>\n",
       "      <th>...</th>\n",
       "      <th>Walk</th>\n",
       "      <th>OtherTransp</th>\n",
       "      <th>WorkAtHome</th>\n",
       "      <th>MeanCommute</th>\n",
       "      <th>Employed</th>\n",
       "      <th>PrivateWork</th>\n",
       "      <th>PublicWork</th>\n",
       "      <th>SelfEmployed</th>\n",
       "      <th>FamilyWork</th>\n",
       "      <th>Unemployment</th>\n",
       "    </tr>\n",
       "  </thead>\n",
       "  <tbody>\n",
       "    <tr>\n",
       "      <th>386</th>\n",
       "      <td>12133</td>\n",
       "      <td>Florida</td>\n",
       "      <td>Washington</td>\n",
       "      <td>24629</td>\n",
       "      <td>13478</td>\n",
       "      <td>11151</td>\n",
       "      <td>3.4</td>\n",
       "      <td>77.4</td>\n",
       "      <td>15.1</td>\n",
       "      <td>0.7</td>\n",
       "      <td>...</td>\n",
       "      <td>1.0</td>\n",
       "      <td>2.9</td>\n",
       "      <td>2.3</td>\n",
       "      <td>29.3</td>\n",
       "      <td>8307</td>\n",
       "      <td>72.5</td>\n",
       "      <td>18.8</td>\n",
       "      <td>8.4</td>\n",
       "      <td>0.3</td>\n",
       "      <td>11.5</td>\n",
       "    </tr>\n",
       "    <tr>\n",
       "      <th>1181</th>\n",
       "      <td>23009</td>\n",
       "      <td>Maine</td>\n",
       "      <td>Hancock</td>\n",
       "      <td>54658</td>\n",
       "      <td>26696</td>\n",
       "      <td>27962</td>\n",
       "      <td>1.3</td>\n",
       "      <td>95.4</td>\n",
       "      <td>0.5</td>\n",
       "      <td>0.4</td>\n",
       "      <td>...</td>\n",
       "      <td>6.2</td>\n",
       "      <td>2.2</td>\n",
       "      <td>7.9</td>\n",
       "      <td>22.3</td>\n",
       "      <td>26665</td>\n",
       "      <td>70.5</td>\n",
       "      <td>13.6</td>\n",
       "      <td>15.8</td>\n",
       "      <td>0.1</td>\n",
       "      <td>7.7</td>\n",
       "    </tr>\n",
       "    <tr>\n",
       "      <th>1914</th>\n",
       "      <td>37049</td>\n",
       "      <td>North Carolina</td>\n",
       "      <td>Craven</td>\n",
       "      <td>104450</td>\n",
       "      <td>52755</td>\n",
       "      <td>51695</td>\n",
       "      <td>6.9</td>\n",
       "      <td>66.6</td>\n",
       "      <td>21.1</td>\n",
       "      <td>0.4</td>\n",
       "      <td>...</td>\n",
       "      <td>1.9</td>\n",
       "      <td>2.5</td>\n",
       "      <td>3.0</td>\n",
       "      <td>20.8</td>\n",
       "      <td>40530</td>\n",
       "      <td>72.1</td>\n",
       "      <td>22.1</td>\n",
       "      <td>5.5</td>\n",
       "      <td>0.3</td>\n",
       "      <td>11.4</td>\n",
       "    </tr>\n",
       "    <tr>\n",
       "      <th>860</th>\n",
       "      <td>19143</td>\n",
       "      <td>Iowa</td>\n",
       "      <td>Osceola</td>\n",
       "      <td>6211</td>\n",
       "      <td>3118</td>\n",
       "      <td>3093</td>\n",
       "      <td>6.5</td>\n",
       "      <td>91.7</td>\n",
       "      <td>0.4</td>\n",
       "      <td>0.4</td>\n",
       "      <td>...</td>\n",
       "      <td>6.8</td>\n",
       "      <td>1.9</td>\n",
       "      <td>4.5</td>\n",
       "      <td>17.7</td>\n",
       "      <td>3282</td>\n",
       "      <td>76.8</td>\n",
       "      <td>11.2</td>\n",
       "      <td>11.7</td>\n",
       "      <td>0.2</td>\n",
       "      <td>3.3</td>\n",
       "    </tr>\n",
       "    <tr>\n",
       "      <th>3144</th>\n",
       "      <td>72005</td>\n",
       "      <td>Puerto Rico</td>\n",
       "      <td>Aguadilla</td>\n",
       "      <td>57973</td>\n",
       "      <td>28267</td>\n",
       "      <td>29706</td>\n",
       "      <td>96.1</td>\n",
       "      <td>1.7</td>\n",
       "      <td>0.2</td>\n",
       "      <td>0.0</td>\n",
       "      <td>...</td>\n",
       "      <td>3.6</td>\n",
       "      <td>0.9</td>\n",
       "      <td>1.6</td>\n",
       "      <td>21.3</td>\n",
       "      <td>14616</td>\n",
       "      <td>63.8</td>\n",
       "      <td>27.4</td>\n",
       "      <td>8.7</td>\n",
       "      <td>0.1</td>\n",
       "      <td>23.2</td>\n",
       "    </tr>\n",
       "    <tr>\n",
       "      <th>1069</th>\n",
       "      <td>21153</td>\n",
       "      <td>Kentucky</td>\n",
       "      <td>Magoffin</td>\n",
       "      <td>12979</td>\n",
       "      <td>6515</td>\n",
       "      <td>6464</td>\n",
       "      <td>0.3</td>\n",
       "      <td>99.5</td>\n",
       "      <td>0.1</td>\n",
       "      <td>0.0</td>\n",
       "      <td>...</td>\n",
       "      <td>0.6</td>\n",
       "      <td>0.6</td>\n",
       "      <td>2.2</td>\n",
       "      <td>31.7</td>\n",
       "      <td>3663</td>\n",
       "      <td>74.0</td>\n",
       "      <td>22.7</td>\n",
       "      <td>2.9</td>\n",
       "      <td>0.4</td>\n",
       "      <td>12.2</td>\n",
       "    </tr>\n",
       "    <tr>\n",
       "      <th>1395</th>\n",
       "      <td>27163</td>\n",
       "      <td>Minnesota</td>\n",
       "      <td>Washington</td>\n",
       "      <td>246670</td>\n",
       "      <td>121924</td>\n",
       "      <td>124746</td>\n",
       "      <td>3.7</td>\n",
       "      <td>84.4</td>\n",
       "      <td>3.8</td>\n",
       "      <td>0.3</td>\n",
       "      <td>...</td>\n",
       "      <td>1.0</td>\n",
       "      <td>0.9</td>\n",
       "      <td>4.8</td>\n",
       "      <td>25.8</td>\n",
       "      <td>130036</td>\n",
       "      <td>82.4</td>\n",
       "      <td>13.3</td>\n",
       "      <td>4.3</td>\n",
       "      <td>0.1</td>\n",
       "      <td>4.8</td>\n",
       "    </tr>\n",
       "    <tr>\n",
       "      <th>2665</th>\n",
       "      <td>48285</td>\n",
       "      <td>Texas</td>\n",
       "      <td>Lavaca</td>\n",
       "      <td>19549</td>\n",
       "      <td>9456</td>\n",
       "      <td>10093</td>\n",
       "      <td>17.5</td>\n",
       "      <td>74.6</td>\n",
       "      <td>6.8</td>\n",
       "      <td>0.0</td>\n",
       "      <td>...</td>\n",
       "      <td>1.6</td>\n",
       "      <td>0.9</td>\n",
       "      <td>4.3</td>\n",
       "      <td>26.5</td>\n",
       "      <td>8929</td>\n",
       "      <td>73.4</td>\n",
       "      <td>14.4</td>\n",
       "      <td>12.1</td>\n",
       "      <td>0.1</td>\n",
       "      <td>4.0</td>\n",
       "    </tr>\n",
       "    <tr>\n",
       "      <th>1047</th>\n",
       "      <td>21109</td>\n",
       "      <td>Kentucky</td>\n",
       "      <td>Jackson</td>\n",
       "      <td>13357</td>\n",
       "      <td>6650</td>\n",
       "      <td>6707</td>\n",
       "      <td>0.1</td>\n",
       "      <td>99.6</td>\n",
       "      <td>0.0</td>\n",
       "      <td>0.0</td>\n",
       "      <td>...</td>\n",
       "      <td>0.8</td>\n",
       "      <td>1.0</td>\n",
       "      <td>0.7</td>\n",
       "      <td>28.1</td>\n",
       "      <td>3993</td>\n",
       "      <td>72.9</td>\n",
       "      <td>22.1</td>\n",
       "      <td>5.0</td>\n",
       "      <td>0.0</td>\n",
       "      <td>12.3</td>\n",
       "    </tr>\n",
       "    <tr>\n",
       "      <th>3212</th>\n",
       "      <td>72139</td>\n",
       "      <td>Puerto Rico</td>\n",
       "      <td>Trujillo Alto</td>\n",
       "      <td>71886</td>\n",
       "      <td>34036</td>\n",
       "      <td>37850</td>\n",
       "      <td>99.6</td>\n",
       "      <td>0.4</td>\n",
       "      <td>0.0</td>\n",
       "      <td>0.0</td>\n",
       "      <td>...</td>\n",
       "      <td>1.4</td>\n",
       "      <td>2.9</td>\n",
       "      <td>3.2</td>\n",
       "      <td>34.5</td>\n",
       "      <td>28059</td>\n",
       "      <td>68.9</td>\n",
       "      <td>21.0</td>\n",
       "      <td>10.1</td>\n",
       "      <td>0.0</td>\n",
       "      <td>7.9</td>\n",
       "    </tr>\n",
       "  </tbody>\n",
       "</table>\n",
       "<p>10 rows × 37 columns</p>\n",
       "</div>"
      ]
     },
     "execution_count": 4,
     "metadata": {},
     "output_type": "execute_result"
    }
   ],
   "execution_count": 4
  },
  {
   "cell_type": "markdown",
   "metadata": {},
   "source": [
    "- We will focus first on income per capita across counties."
   ]
  },
  {
   "cell_type": "code",
   "metadata": {
    "ExecuteTime": {
     "end_time": "2025-10-02T12:11:26.893275Z",
     "start_time": "2025-10-02T12:11:26.448152Z"
    }
   },
   "source": [
    "df['IncomePerCap'].hist(bins = 50)\n",
    "plt.show()"
   ],
   "outputs": [
    {
     "data": {
      "text/plain": [
       "<Figure size 640x480 with 1 Axes>"
      ],
      "image/png": "[encoded data removed]"
     },
     "metadata": {},
     "output_type": "display_data",
     "jetTransient": {
      "display_id": null
     }
    }
   ],
   "execution_count": 45
  },
  {
   "cell_type": "markdown",
   "metadata": {},
   "source": [
    "### 1. Calculating descriptive statisctics\n",
    "\n",
    "- Let's calculate basic descriptive statistics of the income per capita."
   ]
  },
  {
   "cell_type": "code",
   "metadata": {
    "ExecuteTime": {
     "end_time": "2025-10-02T12:11:44.279180Z",
     "start_time": "2025-10-02T12:11:44.273330Z"
    }
   },
   "source": [
    "df['IncomePerCap'].describe()"
   ],
   "outputs": [
    {
     "data": {
      "text/plain": [
       "count     3220.000000\n",
       "mean     23981.771739\n",
       "std       6204.339960\n",
       "min       5878.000000\n",
       "25%      20238.500000\n",
       "50%      23460.000000\n",
       "75%      27053.250000\n",
       "max      65600.000000\n",
       "Name: IncomePerCap, dtype: float64"
      ]
     },
     "execution_count": 47,
     "metadata": {},
     "output_type": "execute_result"
    }
   ],
   "execution_count": 47
  },
  {
   "cell_type": "markdown",
   "metadata": {},
   "source": [
    "- What distribution does the data come from? Here is how we can test the goodness of the fit."
   ]
  },
  {
   "cell_type": "code",
   "metadata": {
    "ExecuteTime": {
     "end_time": "2025-10-02T12:12:47.906599Z",
     "start_time": "2025-10-02T12:12:47.901631Z"
    }
   },
   "source": [
    "# does the data come from a normal distrbution?\n",
    "diagnostic.kstest_normal(df['IncomePerCap'].values, dist = 'norm')"
   ],
   "outputs": [
    {
     "data": {
      "text/plain": [
       "(np.float64(0.0637621121184162), np.float64(0.0009999999999998899))"
      ]
     },
     "execution_count": 58,
     "metadata": {},
     "output_type": "execute_result"
    }
   ],
   "execution_count": 58
  },
  {
   "cell_type": "markdown",
   "metadata": {},
   "source": [
    "- p_value < 0.05 -> we can reject the null hypothesis that the data comes from a normal distribution!"
   ]
  },
  {
   "cell_type": "code",
   "metadata": {
    "ExecuteTime": {
     "end_time": "2025-10-02T12:13:25.617232Z",
     "start_time": "2025-10-02T12:13:25.612743Z"
    }
   },
   "source": [
    "#how about exponential?\n",
    "diagnostic.kstest_normal(df['IncomePerCap'].values, dist = 'exp')"
   ],
   "outputs": [
    {
     "data": {
      "text/plain": [
       "(np.float64(0.433243770582646), np.float64(0.0009999999999998899))"
      ]
     },
     "execution_count": 60,
     "metadata": {},
     "output_type": "execute_result"
    }
   ],
   "execution_count": 60
  },
  {
   "cell_type": "markdown",
   "metadata": {},
   "source": [
    "- p < 0.05 -> not exponential either!"
   ]
  },
  {
   "cell_type": "markdown",
   "metadata": {},
   "source": [
    "### 2. How to sample the data"
   ]
  },
  {
   "cell_type": "markdown",
   "metadata": {},
   "source": [
    "- Often we need to find random samples from the dataset. We can do so conveniently with pandas wrappers."
   ]
  },
  {
   "cell_type": "code",
   "metadata": {
    "ExecuteTime": {
     "end_time": "2025-10-02T12:14:58.017977Z",
     "start_time": "2025-10-02T12:14:58.013Z"
    }
   },
   "source": [
    "#make 10 samples with replacement\n",
    "sample1_counties = df.sample(n = 10, replace = True)\n",
    "\n",
    "#make 10 samples without replacement\n",
    "sample1_counties = df.sample(n = 10, replace = False)\n",
    "\n",
    "#sometimes we want to sample in an ublanaced way, so that we upsample datapoints of certain characteristic,\n",
    "#and downsample the others. this can be acieved with weights parameter\n",
    "#here we sample by upsampling counties with large population\n",
    "sample2_counties = df.sample(n = 10, replace = False, weights = df['TotalPop'])"
   ],
   "outputs": [],
   "execution_count": 68
  },
  {
   "cell_type": "code",
   "metadata": {
    "ExecuteTime": {
     "end_time": "2025-10-02T12:16:53.709835Z",
     "start_time": "2025-10-02T12:16:53.705329Z"
    }
   },
   "source": [
    "#on avergage, the samples in the sample produce with reveighting now have higher population, as we wanted!\n",
    "print(sample1_counties['TotalPop'].mean())\n",
    "print(sample2_counties['TotalPop'].mean())"
   ],
   "outputs": [
    {
     "name": "stdout",
     "output_type": "stream",
     "text": [
      "73574.0\n",
      "811623.6\n"
     ]
    }
   ],
   "execution_count": 70
  },
  {
   "cell_type": "markdown",
   "metadata": {},
   "source": [
    "### 3. Examining relationship between two variables"
   ]
  },
  {
   "cell_type": "markdown",
   "metadata": {},
   "source": [
    "- Is income per capita of a county correlated with the unemployment?"
   ]
  },
  {
   "cell_type": "code",
   "metadata": {
    "ExecuteTime": {
     "end_time": "2025-10-02T12:17:01.071613Z",
     "start_time": "2025-10-02T12:17:01.066899Z"
    }
   },
   "source": [
    "stats.pearsonr(df['IncomePerCap'],df['Employed'])"
   ],
   "outputs": [
    {
     "data": {
      "text/plain": [
       "PearsonRResult(statistic=np.float64(0.2646136320394489), pvalue=np.float64(9.942215354239015e-53))"
      ]
     },
     "execution_count": 71,
     "metadata": {},
     "output_type": "execute_result"
    }
   ],
   "execution_count": 71
  },
  {
   "cell_type": "markdown",
   "metadata": {},
   "source": [
    "- There is a small (0.26), but significant (p < 0.05) positive correlation."
   ]
  },
  {
   "cell_type": "code",
   "metadata": {
    "ExecuteTime": {
     "end_time": "2025-10-02T12:17:32.987026Z",
     "start_time": "2025-10-02T12:17:32.978854Z"
    }
   },
   "source": [
    "stats.spearmanr(df['IncomePerCap'],df['Employed'])"
   ],
   "outputs": [
    {
     "data": {
      "text/plain": [
       "SignificanceResult(statistic=np.float64(0.30770631560595474), pvalue=np.float64(1.415296431173735e-71))"
      ]
     },
     "execution_count": 72,
     "metadata": {},
     "output_type": "execute_result"
    }
   ],
   "execution_count": 72
  },
  {
   "cell_type": "markdown",
   "metadata": {},
   "source": [
    "- Spearman rank coorrelation is also significant."
   ]
  },
  {
   "cell_type": "markdown",
   "metadata": {},
   "source": [
    "### 4. Hypothesis testing"
   ]
  },
  {
   "cell_type": "markdown",
   "metadata": {},
   "source": [
    "- Is income per capita higher in New York counties compared to California counties?"
   ]
  },
  {
   "cell_type": "code",
   "metadata": {
    "ExecuteTime": {
     "end_time": "2025-10-02T12:18:07.263730Z",
     "start_time": "2025-10-02T12:18:07.258927Z"
    }
   },
   "source": [
    "df.loc[df['State'] == 'New York']['IncomePerCap'].mean()"
   ],
   "outputs": [
    {
     "data": {
      "text/plain": [
       "np.float64(28189.75806451613)"
      ]
     },
     "execution_count": 74,
     "metadata": {},
     "output_type": "execute_result"
    }
   ],
   "execution_count": 74
  },
  {
   "cell_type": "code",
   "metadata": {
    "ExecuteTime": {
     "end_time": "2025-10-02T12:18:20.976638Z",
     "start_time": "2025-10-02T12:18:20.971940Z"
    }
   },
   "source": [
    "df.loc[df['State'] == 'California']['IncomePerCap'].mean()"
   ],
   "outputs": [
    {
     "data": {
      "text/plain": [
       "np.float64(27902.603448275862)"
      ]
     },
     "execution_count": 75,
     "metadata": {},
     "output_type": "execute_result"
    }
   ],
   "execution_count": 75
  },
  {
   "cell_type": "markdown",
   "metadata": {},
   "source": [
    "- We see that there is a ~300$ gap. Quite a lot!\n",
    "- But is it significantly higher? Let's use a t-test. This is a two-sided test for the null hypothesis that the two independent samples have identical average (expected) values. "
   ]
  },
  {
   "cell_type": "code",
   "metadata": {
    "ExecuteTime": {
     "end_time": "2025-10-02T12:19:13.892347Z",
     "start_time": "2025-10-02T12:19:13.886089Z"
    }
   },
   "source": [
    "stats.ttest_ind(df.loc[df['State'] == 'New York']['IncomePerCap'], df.loc[df['State'] == 'California']['IncomePerCap'])"
   ],
   "outputs": [
    {
     "data": {
      "text/plain": [
       "TtestResult(statistic=np.float64(0.19788117232375713), pvalue=np.float64(0.8434785239169611), df=np.float64(118.0))"
      ]
     },
     "execution_count": 77,
     "metadata": {},
     "output_type": "execute_result"
    }
   ],
   "execution_count": 77
  },
  {
   "cell_type": "markdown",
   "metadata": {},
   "source": [
    "- p is not smaller than 0.05 -> we cannot reject the null hypothesis that the income is the same -> there is no significant difference"
   ]
  },
  {
   "cell_type": "markdown",
   "metadata": {},
   "source": [
    "### 5. How to measure uncertainty\n",
    "- Now we see the importance of mesuring uncertainty and indicating it on data visualizations.\n",
    "- Visual inspection of 95% confidence intervals lets us see that the difference is not significant (the errorbars are overlapping)."
   ]
  },
  {
   "cell_type": "code",
   "metadata": {
    "ExecuteTime": {
     "end_time": "2025-10-02T12:20:00.378578Z",
     "start_time": "2025-10-02T12:20:00.246872Z"
    }
   },
   "source": [
    "ax = sns.barplot(x=\"State\", y=\"IncomePerCap\", data=df.loc[df['State'].isin(['New York','California'])])\n",
    "plt.ylim([25000,32000])\n",
    "plt.show()"
   ],
   "outputs": [
    {
     "data": {
      "text/plain": [
       "<Figure size 640x480 with 1 Axes>"
      ],
      "image/png": "[encoded data removed]"
     },
     "metadata": {},
     "output_type": "display_data",
     "jetTransient": {
      "display_id": null
     }
    }
   ],
   "execution_count": 83
  },
  {
   "cell_type": "markdown",
   "metadata": {},
   "source": [
    "# Exercise 1: Boosting the economy by incentivizing self-employment\n",
    "\n",
    "Assume the biggest priority of the local government in 2018 is to increase per-capita income. To do so, the officials plan to adopt a strategy for incentivizing self-employment through a series of campaigns, educational programs, and dedicated funds.\n",
    "\n",
    "Since it is unethical and impossible in this setting to run a controlled experiment involving citizens (e.g., fire employees and force them to self-employ), the officials have asked you, the data scientist, to establish the effect of self-employment on the economy, relying on observational data.\n",
    "\n",
    "**A)** Using suitable methods, determine and quantify the dependency between the percentage of self-employed citizens and per capita income across all 3,212 US counties. Do citizens in counties that have a higher percentage of self-employed people earn more per capita?"
   ]
  },
  {
   "cell_type": "code",
   "metadata": {
    "ExecuteTime": {
     "end_time": "2025-10-02T12:51:16.621812Z",
     "start_time": "2025-10-02T12:51:16.616794Z"
    }
   },
   "source": "stats.pearsonr(df['IncomePerCap'],df['SelfEmployed'])",
   "outputs": [
    {
     "data": {
      "text/plain": [
       "PearsonRResult(statistic=np.float64(0.08727386609551786), pvalue=np.float64(7.052861196524553e-07))"
      ]
     },
     "execution_count": 87,
     "metadata": {},
     "output_type": "execute_result"
    }
   ],
   "execution_count": 87
  },
  {
   "metadata": {
    "ExecuteTime": {
     "end_time": "2025-10-02T12:51:08.199831Z",
     "start_time": "2025-10-02T12:51:08.194559Z"
    }
   },
   "cell_type": "code",
   "source": "stats.spearmanr(df['IncomePerCap'],df['Employed'])",
   "outputs": [
    {
     "data": {
      "text/plain": [
       "SignificanceResult(statistic=np.float64(0.30770631560595474), pvalue=np.float64(1.415296431173735e-71))"
      ]
     },
     "execution_count": 86,
     "metadata": {},
     "output_type": "execute_result"
    }
   ],
   "execution_count": 86
  },
  {
   "metadata": {},
   "cell_type": "markdown",
   "source": [
    "The data shows almost no linear relationship between self-employment rates and per-capita income (Pearson r ≈ 0.09).\n",
    "\n",
    "In contrast, overall employment has a stronger monotonic association with per-capita income (Spearman ρ ≈ 0.31).\n",
    "\n",
    "So, incentivizing self-employment alone doesn’t strongly predict higher income per capita."
   ]
  },
  {
   "cell_type": "markdown",
   "metadata": {},
   "source": "**B)** The pilot program will involve all counties within a limited set of three US states. Set A includes Wisconsin, Tennessee, and  Minnesota. Quantify the dependency of per-capita income on self-employment rates across all the counties in set A."
  },
  {
   "cell_type": "code",
   "metadata": {
    "ExecuteTime": {
     "end_time": "2025-10-02T13:06:05.511023Z",
     "start_time": "2025-10-02T13:06:05.504449Z"
    }
   },
   "source": "stats.pearsonr(df.loc[df['State'].isin(['Wisconsin','Tennessee', 'Minnesota' ])]['IncomePerCap'],df.loc[df['State'].isin(['Wisconsin','Tennessee', 'Minnesota' ])]['SelfEmployed'])",
   "outputs": [
    {
     "data": {
      "text/plain": [
       "PearsonRResult(statistic=np.float64(-0.202293507365215), pvalue=np.float64(0.0011881639322138644))"
      ]
     },
     "execution_count": 91,
     "metadata": {},
     "output_type": "execute_result"
    }
   ],
   "execution_count": 91
  },
  {
   "metadata": {
    "ExecuteTime": {
     "end_time": "2025-10-02T13:10:52.555524Z",
     "start_time": "2025-10-02T13:10:52.547398Z"
    }
   },
   "cell_type": "code",
   "source": "stats.spearmanr(df.loc[df['State'].isin(['Wisconsin','Tennessee', 'Minnesota' ])]['IncomePerCap'],df.loc[df['State'].isin(['Wisconsin','Tennessee', 'Minnesota' ])]['SelfEmployed'])",
   "outputs": [
    {
     "data": {
      "text/plain": [
       "SignificanceResult(statistic=np.float64(-0.23669790001033852), pvalue=np.float64(0.00014010090313655094))"
      ]
     },
     "execution_count": 92,
     "metadata": {},
     "output_type": "execute_result"
    }
   ],
   "execution_count": 92
  },
  {
   "cell_type": "markdown",
   "metadata": {},
   "source": [
    "**C)** In which state within set A is the observed effect of self-employment on per-capita income the strongest?"
   ]
  },
  {
   "cell_type": "code",
   "metadata": {
    "ExecuteTime": {
     "end_time": "2025-10-02T13:15:56.547034Z",
     "start_time": "2025-10-02T13:15:56.533224Z"
    }
   },
   "source": [
    "print(\"Wisconsin : \" + str(stats.pearsonr(df.loc[df['State']=='Wisconsin']['IncomePerCap'],df.loc[df['State']=='Wisconsin']['SelfEmployed'])))\n",
    "print(\"Tennessee : \" + str(stats.pearsonr(df.loc[df['State']=='Tennessee']['IncomePerCap'],df.loc[df['State']=='Tennessee']['SelfEmployed'])))\n",
    "print(\"Minnesota : \" + str(stats.pearsonr(df.loc[df['State']=='Minnesota']['IncomePerCap'],df.loc[df['State']=='Minnesota']['SelfEmployed'])))\n",
    "print(\"Wisconsin : \" + str(stats.spearmanr(df.loc[df['State']=='Wisconsin']['IncomePerCap'],df.loc[df['State']=='Wisconsin']['SelfEmployed'])))\n",
    "print(\"Tennessee : \" + str(stats.spearmanr(df.loc[df['State']=='Tennessee']['IncomePerCap'],df.loc[df['State']=='Tennessee']['SelfEmployed'])))\n",
    "print(\"Minnesota : \" + str(stats.spearmanr(df.loc[df['State']=='Minnesota']['IncomePerCap'],df.loc[df['State']=='Minnesota']['SelfEmployed'])))"
   ],
   "outputs": [
    {
     "name": "stdout",
     "output_type": "stream",
     "text": [
      "Wisconsin : PearsonRResult(statistic=np.float64(-0.32905300016378525), pvalue=np.float64(0.004768134887745218))\n",
      "Tennessee : PearsonRResult(statistic=np.float64(-0.2383604868491315), pvalue=np.float64(0.020011631955528172))\n",
      "Minnesota : PearsonRResult(statistic=np.float64(-0.2538551921654062), pvalue=np.float64(0.01766519930091188))\n",
      "Wisconsin : SignificanceResult(statistic=np.float64(-0.4635129104404941), pvalue=np.float64(4.124859155565996e-05))\n",
      "Tennessee : SignificanceResult(statistic=np.float64(-0.316991392780988), pvalue=np.float64(0.0017487582457931406))\n",
      "Minnesota : SignificanceResult(statistic=np.float64(-0.21107460598245847), pvalue=np.float64(0.04970805582462062))\n"
     ]
    }
   ],
   "execution_count": 95
  },
  {
   "cell_type": "markdown",
   "metadata": {},
   "source": [
    "**D)** Set B includes New Jersey, Kansas, and Rhode Island. Repeat the analysis from steps B and C above, but now for set B. In which of the two sets A and B (if any) would you recommend incentivizing self-employment? Explain your reasoning. Hint: It is useful to add a notion of confidence to your results and explore the data visually."
   ]
  },
  {
   "cell_type": "code",
   "metadata": {
    "ExecuteTime": {
     "end_time": "2025-10-02T13:19:25.380582Z",
     "start_time": "2025-10-02T13:19:25.359062Z"
    }
   },
   "source": [
    "print(stats.pearsonr(df.loc[df['State'].isin(['New Jersey', 'Kansas', 'Rhode Island'])]['IncomePerCap'],\n",
    "               df.loc[df['State'].isin(['New Jersey', 'Kansas', 'Rhode Island'])]['SelfEmployed']))\n",
    "print(stats.spearmanr(df.loc[df['State'].isin(['New Jersey', 'Kansas', 'Rhode Island'])]['IncomePerCap'],\n",
    "                df.loc[df['State'].isin(['New Jersey', 'Kansas', 'Rhode Island'])]['SelfEmployed']))\n",
    "\n",
    "\n",
    "print(\"New Jersey : \" + str(stats.pearsonr(df.loc[df['State']=='New Jersey']['IncomePerCap'],df.loc[df['State']=='New Jersey']['SelfEmployed'])))\n",
    "print(\"Kansas : \" + str(stats.pearsonr(df.loc[df['State']=='Kansas']['IncomePerCap'],df.loc[df['State']=='Kansas']['SelfEmployed'])))\n",
    "print(\"Rhode Island : \" + str(stats.pearsonr(df.loc[df['State']=='Rhode Island']['IncomePerCap'],df.loc[df['State']=='Rhode Island']['SelfEmployed'])))\n",
    "print(\"New Jersey : \" + str(stats.spearmanr(df.loc[df['State']=='New Jersey']['IncomePerCap'],df.loc[df['State']=='New Jersey']['SelfEmployed'])))\n",
    "print(\"Kansas : \" + str(stats.spearmanr(df.loc[df['State']=='Kansas']['IncomePerCap'],df.loc[df['State']=='Kansas']['SelfEmployed'])))\n",
    "print(\"Rhode Island : \" + str(stats.spearmanr(df.loc[df['State']=='Rhode Island']['IncomePerCap'],df.loc[df['State']=='Rhode Island']['SelfEmployed'])))"
   ],
   "outputs": [
    {
     "name": "stdout",
     "output_type": "stream",
     "text": [
      "PearsonRResult(statistic=np.float64(-0.2322214134608569), pvalue=np.float64(0.0076074930428573165))\n",
      "SignificanceResult(statistic=np.float64(-0.16010624610827853), pvalue=np.float64(0.06773890774775308))\n",
      "New Jersey : PearsonRResult(statistic=np.float64(0.48044784713362826), pvalue=np.float64(0.027488944757806215))\n",
      "Kansas : PearsonRResult(statistic=np.float64(0.25810299714436913), pvalue=np.float64(0.007853351846832411))\n",
      "Rhode Island : PearsonRResult(statistic=np.float64(0.9021788382149805), pvalue=np.float64(0.036183102015759167))\n",
      "New Jersey : SignificanceResult(statistic=np.float64(0.4040346017736601), pvalue=np.float64(0.06929493068926951))\n",
      "Kansas : SignificanceResult(statistic=np.float64(0.28392575483491556), pvalue=np.float64(0.0033332825399419903))\n",
      "Rhode Island : SignificanceResult(statistic=np.float64(0.9999999999999999), pvalue=np.float64(1.4042654220543672e-24))\n"
     ]
    }
   ],
   "execution_count": 97
  },
  {
   "cell_type": "markdown",
   "metadata": {},
   "source": [
    "# Exercise 2. Data visualization and read the stats comprehension and interpretation questions.\n",
    "\n",
    "- As part of the quizes, two homeworks and the final exam, you will be at times asked to interpret your result based on the understanding of underlying concepts. The questions below can help you practice and get a sense of how well you understand the concepts covered in the class so far. Can you answer these questions confidently?"
   ]
  },
  {
   "cell_type": "markdown",
   "metadata": {},
   "source": [
    "### Question 1. The yearly salaries (in thousands of CHF) of 7000 people are summarized in the following box plot. If the 20th percentile of the salaries is 110,000, how many people earn between 110,000 and 114,000?\n",
    "\n",
    "- a) 2100\n",
    "- b) 700\n",
    "- c) 350\n",
    "- d) 70"
   ]
  },
  {
   "cell_type": "markdown",
   "metadata": {},
   "source": [
    "<img src=\"boxplot.png\" style=\"width: 400px;\" align=\"left\"/>"
   ]
  },
  {
   "cell_type": "code",
   "metadata": {
    "ExecuteTime": {
     "end_time": "2025-10-02T13:23:21.828740Z",
     "start_time": "2025-10-02T13:23:21.824481Z"
    }
   },
   "source": [
    "answer= (0.25-0.20)*7000\n",
    "answer"
   ],
   "outputs": [
    {
     "data": {
      "text/plain": [
       "349.99999999999994"
      ]
     },
     "execution_count": 101,
     "metadata": {},
     "output_type": "execute_result"
    }
   ],
   "execution_count": 101
  },
  {
   "cell_type": "markdown",
   "metadata": {},
   "source": [
    "### Question 2. What visualizations are suitable for getting insights about the distribution of a single continuous variable?\n",
    "\n",
    "- a) Barplot and histogram\n",
    "- b) Boxplot and histogram\n",
    "- c) Scatterplot and boxplot\n",
    "- d) Barplot, boxplot, and histogram"
   ]
  },
  {
   "metadata": {},
   "cell_type": "markdown",
   "source": "answer : Barplot, boxplot, and histogram"
  },
  {
   "cell_type": "markdown",
   "metadata": {},
   "source": [
    "### Question 3. In a new groundbreaking study, 28 out of 100 patients reported improvements after taking a new medicine. It is known that, when given a placebo, 20% of the patients report feeling better. What is the p-value assuming the null hypothesis that the probability of successful treatment in this groundbreaking study is the same as the probability of reporting feeling better under placebo, according to a one-sided binomial test? Hint: you may use the statsmodels.stats.proportion.binom_test function.\n",
    "\n",
    "- a) 0.00034\n",
    "- b) 0.0034\n",
    "- c) 0.034\n",
    "- d) 0.34"
   ]
  },
  {
   "metadata": {},
   "cell_type": "markdown",
   "source": ""
  },
  {
   "metadata": {
    "ExecuteTime": {
     "end_time": "2025-10-02T13:30:20.793577Z",
     "start_time": "2025-10-02T13:30:20.770726Z"
    }
   },
   "cell_type": "code",
   "source": "from statsmodels.stats import proportion",
   "outputs": [],
   "execution_count": 120
  },
  {
   "cell_type": "code",
   "metadata": {
    "ExecuteTime": {
     "end_time": "2025-10-02T13:34:27.965369Z",
     "start_time": "2025-10-02T13:34:27.960276Z"
    }
   },
   "source": [
    "answer = proportion.binom_test(count=28,nobs=100,prop=0.2,alternative='larger')\n",
    "answer"
   ],
   "outputs": [
    {
     "data": {
      "text/plain": [
       "np.float64(0.03415162963907485)"
      ]
     },
     "execution_count": 129,
     "metadata": {},
     "output_type": "execute_result"
    }
   ],
   "execution_count": 129
  },
  {
   "cell_type": "markdown",
   "metadata": {},
   "source": [
    "### Question 4. The 95% confidence interval of the average height of 1000 people using bootstrap resampling with 10000 bootstrap samples is calculated by:\n",
    "\n",
    "- a) Sampling 1000 height values with replacement and computing the mean. This is repeated 10000 times to create a sorted list of the 10000 means. The CI is defined by the 500th and the 9500th value in sorted order.\n",
    "- b) Sampling 10000 height values without replacement and computing the mean. This is repeated 1000 times to create a sorted list of the 1000 means. The CI is defined by the 25th and the 975th value in sorted order.\n",
    "- c) Sampling 1000 height values with replacement and computing the mean. This is repeated 10000 times to create a sorted list of the 10000 means. The CI is defined by the 250th and the 9750th value in sorted order.\n",
    "- d) Sampling 1000 height values without replacement and computing the mean. This is repeated 10000 times to create a sorted list of the 10000 means. The CI is defined by the 500th and the 9500th value in sorted order.\n",
    "\n",
    "### Implement your bootstrapping function that you will use in the rest of the course. It should take an array and the number of iterations as inputs, and output 95% confidence intervals of the mean."
   ]
  },
  {
   "cell_type": "code",
   "execution_count": null,
   "metadata": {},
   "outputs": [],
   "source": "answer a"
  },
  {
   "metadata": {
    "ExecuteTime": {
     "end_time": "2025-10-02T13:50:56.250729Z",
     "start_time": "2025-10-02T13:50:56.246948Z"
    }
   },
   "cell_type": "code",
   "source": [
    "def bootstrapping(array, inter=10000):\n",
    "    x = np.asarray(array)\n",
    "    n = len(x)\n",
    "    rng = np.random.default_rng()\n",
    "\n",
    "    boot_means = [np.mean(rng.choice(x, size=n, replace=True)) for _ in range(inter)]\n",
    "\n",
    "    low = np.percentile(boot_means, 2.5)\n",
    "    high = np.percentile(boot_means, 97.5)\n",
    "    return low, high\n"
   ],
   "outputs": [],
   "execution_count": 137
  },
  {
   "cell_type": "markdown",
   "metadata": {},
   "source": [
    "### Question 5. A study conducted at EPFL revealed a negative Spearman’s correlation between GPA and entry-level job salary. Which of the following statements is true?\n",
    "\n",
    "- a) There could be a positive Spearman’s correlation between GPA and entry-level job salary in every single department of EPFL.\n",
    "- b) Spearman correlation between GPA and entry-level job salary in every single department has to be positive.\n",
    "- c) Across all levels, as opposed to entry-level only, higher GPA scores are associated with higher job salaries.\n",
    "- d) We can infer that finishing EPFL with a higher GPA causes you to have a lower entry-level job salary."
   ]
  },
  {
   "metadata": {},
   "cell_type": "markdown",
   "source": "answer : c"
  },
  {
   "cell_type": "markdown",
   "metadata": {},
   "source": [
    "### Question 6. The average number of requests per page during a day on a large website is 200, while the median is 15. \n",
    "\n",
    "- a) You can assume that the distribution is heavy-tailed.\n",
    "- b) You are dealing with a left-skewed distribution.\n",
    "- c) Half of the pages get more than 200 requests.\n",
    "- d) None of the above."
   ]
  },
  {
   "metadata": {},
   "cell_type": "markdown",
   "source": "answer : a"
  }
 ],
 "metadata": {
  "kernelspec": {
   "display_name": "Python [conda env:ada] *",
   "language": "python",
   "name": "conda-env-ada-py"
  },
  "language_info": {
   "codemirror_mode": {
    "name": "ipython",
    "version": 3
   },
   "file_extension": ".py",
   "mimetype": "text/x-python",
   "name": "python",
   "nbconvert_exporter": "python",
   "pygments_lexer": "ipython3",
   "version": "3.9.13"
  },
  "varInspector": {
   "cols": {
    "lenName": 16,
    "lenType": 16,
    "lenVar": 40
   },
   "kernels_config": {
    "python": {
     "delete_cmd_postfix": "",
     "delete_cmd_prefix": "del ",
     "library": "var_list.py",
     "varRefreshCmd": "print(var_dic_list())"
    },
    "r": {
     "delete_cmd_postfix": ") ",
     "delete_cmd_prefix": "rm(",
     "library": "var_list.r",
     "varRefreshCmd": "cat(var_dic_list()) "
    }
   },
   "types_to_exclude": [
    "module",
    "function",
    "builtin_function_or_method",
    "instance",
    "_Feature"
   ],
   "window_display": false
  }
 },
 "nbformat": 4,
 "nbformat_minor": 4
}
